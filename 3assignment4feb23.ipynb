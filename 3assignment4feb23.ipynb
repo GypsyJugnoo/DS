{
 "cells": [
  {
   "cell_type": "markdown",
   "id": "1e0d92e5-b61a-4db5-8fe4-961fe32e518a",
   "metadata": {},
   "source": [
    "Q1. Create a python program to sort the given list of tuples based on integer value using a\n",
    "lambda function.\n",
    "[('Sachin Tendulkar', 34357), ('Ricky Ponting', 27483), ('Jack Kallis', 25534), ('Virat Kohli', 24936)]\n",
    "Q2. Write a Python Program to find the squares of all the numbers in the given list of integers using\n",
    "lambda and map functions.\n",
    "[1, 2, 3, 4, 5, 6, 7, 8, 9, 10]\n",
    "Q3. Write a python program to convert the given list of integers into a tuple of strings. Use map and\n",
    "lambda functions\n",
    "Given String: [1, 2, 3, 4, 5, 6, 7, 8, 9, 10]\n",
    "Expected output: ('1', '2', '3', '4', '5', '6', '7', '8', '9', '10')\n",
    "Q4. Write a python program using reduce function to compute the product of a list containing numbers\n",
    "from 1 to 25.\n",
    "Q5. Write a python program to filter the numbers in a given list that are divisible by 2 and 3 using the\n",
    "filter function.\n",
    "[2, 3, 6, 9, 27, 60, 90, 120, 55, 46]\n",
    "Q6. Write a python program to find palindromes in the given list of strings using lambda and filter\n",
    "function.\n",
    "['python', 'php', 'aba', 'radar', 'level']"
   ]
  },
  {
   "cell_type": "code",
   "execution_count": 2,
   "id": "97863362-51db-48ef-9756-33b6ec4dfbfa",
   "metadata": {},
   "outputs": [
    {
     "name": "stdout",
     "output_type": "stream",
     "text": [
      "[('Sachin Tendulkar', 34357), ('Ricky Ponting', 27483), ('Jack Kallis', 25534), ('Virat Kohli', 24936)]\n"
     ]
    }
   ],
   "source": [
    "#Q1. Create a python program to sort the given list of tuples based on integer value using a lambda function.\n",
    "l=[('Sachin Tendulkar', 34357), ('Ricky Ponting', 27483), ('Jack Kallis', 25534), ('Virat Kohli', 24936)]\n",
    "\n",
    "sorted_players = sorted(l, key=lambda x: x[1], reverse=True)\n",
    "print(sorted_players)"
   ]
  },
  {
   "cell_type": "code",
   "execution_count": 9,
   "id": "c745a390-6872-44a0-94e8-556d156557f4",
   "metadata": {},
   "outputs": [
    {
     "name": "stdout",
     "output_type": "stream",
     "text": [
      "[1, 4, 9, 16, 25, 36, 49, 64, 81, 100]\n"
     ]
    }
   ],
   "source": [
    "#Q2. Write a Python Program to find the squares of all\n",
    "#the numbers in the given list of integers using lambda and map functions. \n",
    "l=[1, 2, 3, 4, 5, 6, 7, 8, 9, 10]\n",
    "l2=map(lambda n:n**2, l)\n",
    "print(list(l2))"
   ]
  },
  {
   "cell_type": "code",
   "execution_count": 11,
   "id": "3bccd5a9-e4c3-43c3-a6e2-61e44fca8fbf",
   "metadata": {},
   "outputs": [
    {
     "name": "stdout",
     "output_type": "stream",
     "text": [
      "('1', '2', '3', '4', '5', '6', '7', '8', '9', '10')\n",
      "True\n"
     ]
    }
   ],
   "source": [
    "#Q3. Write a python program to convert \n",
    "#the given list of integers\n",
    "#into a tuple of strings. Use map and lambda functions Given String: \n",
    "Expected_output = ('1', '2', '3', '4', '5', '6', '7', '8', '9', '10') \n",
    "\n",
    "l=[1, 2, 3, 4, 5, 6, 7, 8, 9, 10] \n",
    "l3= tuple(map(lambda x:str(x),l))\n",
    "print(l3)\n",
    "print(l3== Expected_output)"
   ]
  },
  {
   "cell_type": "code",
   "execution_count": 17,
   "id": "262e6991-ab7e-450f-b8c7-33e49d66f17d",
   "metadata": {},
   "outputs": [
    {
     "name": "stdout",
     "output_type": "stream",
     "text": [
      "[1, 2, 3, 4, 5, 6, 7, 8, 9, 10, 11, 12, 13, 14, 15, 16, 17, 18, 19, 20, 21, 22, 23, 24, 25]\n"
     ]
    },
    {
     "data": {
      "text/plain": [
       "15511210043330985984000000"
      ]
     },
     "execution_count": 17,
     "metadata": {},
     "output_type": "execute_result"
    }
   ],
   "source": [
    "#Q4. Write a python program using reduce function to compute \n",
    "#the product of a list containing numbers from 1 to 25. \n",
    "l =list(range(1,26))\n",
    "print(l)\n",
    "from functools import  reduce\n",
    "product =reduce(lambda x,y:x*y ,l)\n",
    "product"
   ]
  },
  {
   "cell_type": "code",
   "execution_count": 21,
   "id": "98367233-ab39-43d2-aead-1389f53087a3",
   "metadata": {},
   "outputs": [
    {
     "name": "stdout",
     "output_type": "stream",
     "text": [
      "<filter object at 0x7fd6316b1bd0>\n",
      "[6, 60, 90, 120]\n"
     ]
    }
   ],
   "source": [
    "#5. Write a python program to filter the numbers in \n",
    "#a given list that are divisible by 2 and 3 using the filter function.\n",
    "l=[2, 3, 6, 9, 27, 60, 90, 120, 55, 46] \n",
    "l5=filter(lambda n: n%2==0 and n%3==0 ,l)\n",
    "print(l5)\n",
    "print(list(l5))"
   ]
  },
  {
   "cell_type": "code",
   "execution_count": 30,
   "id": "757b718f-3762-499e-9717-9d405cd87e07",
   "metadata": {},
   "outputs": [
    {
     "data": {
      "text/plain": [
       "['php', 'aba', 'radar', 'level']"
      ]
     },
     "execution_count": 30,
     "metadata": {},
     "output_type": "execute_result"
    }
   ],
   "source": [
    "#Q6. Write a python program to find palindromes in the given \n",
    "#list of strings using lambda and filter function.\n",
    "l=['python', 'php', 'aba', 'radar', 'level']\n",
    "\n",
    "palindromes = list(filter(lambda x: x == x[::-1], l))\n",
    "palindromes"
   ]
  },
  {
   "cell_type": "code",
   "execution_count": 36,
   "id": "bacfc8ad-3e58-4d94-8b21-98480adf1f12",
   "metadata": {},
   "outputs": [
    {
     "name": "stdout",
     "output_type": "stream",
     "text": [
      "['php', 'aba', 'radar', 'radar', 'level', 'level']\n",
      "{'aba', 'php', 'level', 'radar'}\n"
     ]
    }
   ],
   "source": [
    "l=['python', 'php', 'aba', 'radar', 'level']\n",
    "def plnm(l):\n",
    "    l6=[]\n",
    "    for i in l:\n",
    "        for j in range(int(len(i)/2)):\n",
    "            if i[j]==i[-(j+1)]:\n",
    "                l6.append(i)  \n",
    "    return l6\n",
    "print(plnm(l))\n",
    "print(set(plnm(l)))\n"
   ]
  },
  {
   "cell_type": "code",
   "execution_count": null,
   "id": "d3e5b5d8-85af-44c2-9c67-57f331f06d35",
   "metadata": {},
   "outputs": [],
   "source": []
  }
 ],
 "metadata": {
  "kernelspec": {
   "display_name": "Python 3 (ipykernel)",
   "language": "python",
   "name": "python3"
  },
  "language_info": {
   "codemirror_mode": {
    "name": "ipython",
    "version": 3
   },
   "file_extension": ".py",
   "mimetype": "text/x-python",
   "name": "python",
   "nbconvert_exporter": "python",
   "pygments_lexer": "ipython3",
   "version": "3.10.8"
  }
 },
 "nbformat": 4,
 "nbformat_minor": 5
}
