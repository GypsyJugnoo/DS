{
 "cells": [
  {
   "cell_type": "code",
   "execution_count": 1,
   "id": "e4195184-04d1-49e7-9c37-818523ca0588",
   "metadata": {},
   "outputs": [
    {
     "data": {
      "text/plain": [
       "'Q1. What is multiprocessing in python? Why is it useful?\\nMultiprocessing is a module in Python that allows the execution of multiple processes concurrently.\\nIn other words, it allows for the execution of multiple instances of the same program,\\neach running in its own memory space and executing on its own CPU core.'"
      ]
     },
     "execution_count": 1,
     "metadata": {},
     "output_type": "execute_result"
    }
   ],
   "source": [
    "'''Q1. What is multiprocessing in python? Why is it useful?\n",
    "Multiprocessing is a module in Python that allows the execution of multiple processes concurrently.\n",
    "In other words, it allows for the execution of multiple instances of the same program,\n",
    "each running in its own memory space and executing on its own CPU core.'''"
   ]
  },
  {
   "cell_type": "code",
   "execution_count": 2,
   "id": "10da6c77-fa34-4479-a4fb-b59aaabfc427",
   "metadata": {},
   "outputs": [
    {
     "data": {
      "text/plain": [
       "\"\\nQ2. What are the differences between multiprocessing and multithreading?\\nMultiprocessing and multithreading are both techniques for achieving concurrent execution of code in Python,\\nbut they differ in several key ways:\\n\\nProcesses vs. Threads: The primary difference between multiprocessing and multithreading is that\\nmultiprocessing uses multiple processes, while multithreading uses multiple threads within a single process.\\nEach process has its own memory space, while threads share the memory space of the parent process.\\n\\nCPU-bound vs. I/O-bound: Multiprocessing is typically used for CPU-bound tasks, such as scientific computing \\nor image processing, while multithreading is better suited for I/O-bound tasks, such as network or file I/O. \\nThis is because multiprocessing can take advantage of multiple CPU cores,\\nwhile multithreading can overlap I/O operations with CPU computations.\\n\\nOverhead: Multiprocessing has higher overhead than multithreading, since creating and managing\\nmultiple processes incurs more overhead than creating and managing multiple threads within a single process.\\n\\nInterprocess communication: Multiprocessing requires explicit interprocess communication (IPC)\\nto share data between processes, while multithreading can share data between threads using shared memory or\\nother synchronization primitives.\\n\\nGIL: Python's Global Interpreter Lock (GIL) restricts multithreading in CPython, \\nmeaning that only one thread can execute Python bytecode at a time. \\nThis means that multiprocessing is often preferred for CPU-bound tasks in Python.\\n\\nOverall, multiprocessing and multithreading have different strengths and weaknesses, and\\nthe choice between them depends on the specific requirements of the program being developed.\\n\\n\\n\\n\\n\""
      ]
     },
     "execution_count": 2,
     "metadata": {},
     "output_type": "execute_result"
    }
   ],
   "source": [
    "'''\n",
    "Q2. What are the differences between multiprocessing and multithreading?\n",
    "Multiprocessing and multithreading are both techniques for achieving concurrent execution of code in Python,\n",
    "but they differ in several key ways:\n",
    "\n",
    "Processes vs. Threads: The primary difference between multiprocessing and multithreading is that\n",
    "multiprocessing uses multiple processes, while multithreading uses multiple threads within a single process.\n",
    "Each process has its own memory space, while threads share the memory space of the parent process.\n",
    "\n",
    "CPU-bound vs. I/O-bound: Multiprocessing is typically used for CPU-bound tasks, such as scientific computing \n",
    "or image processing, while multithreading is better suited for I/O-bound tasks, such as network or file I/O. \n",
    "This is because multiprocessing can take advantage of multiple CPU cores,\n",
    "while multithreading can overlap I/O operations with CPU computations.\n",
    "\n",
    "Overhead: Multiprocessing has higher overhead than multithreading, since creating and managing\n",
    "multiple processes incurs more overhead than creating and managing multiple threads within a single process.\n",
    "\n",
    "Interprocess communication: Multiprocessing requires explicit interprocess communication (IPC)\n",
    "to share data between processes, while multithreading can share data between threads using shared memory or\n",
    "other synchronization primitives.\n",
    "\n",
    "GIL: Python's Global Interpreter Lock (GIL) restricts multithreading in CPython, \n",
    "meaning that only one thread can execute Python bytecode at a time. \n",
    "This means that multiprocessing is often preferred for CPU-bound tasks in Python.\n",
    "\n",
    "Overall, multiprocessing and multithreading have different strengths and weaknesses, and\n",
    "the choice between them depends on the specific requirements of the program being developed.\n",
    "\n",
    "\n",
    "\n",
    "\n",
    "'''"
   ]
  },
  {
   "cell_type": "code",
   "execution_count": 1,
   "id": "9c24d3c8-de6e-450f-b665-277677cfcf86",
   "metadata": {},
   "outputs": [
    {
     "name": "stdout",
     "output_type": "stream",
     "text": [
      "Worker process started\n",
      "Worker process ID: 244\n",
      "Worker process finished\n",
      "Main process finished\n"
     ]
    }
   ],
   "source": [
    "#Q3. Write a python code to create a process using the multiprocessing module.\n",
    "import multiprocessing\n",
    "\n",
    "def worker():\n",
    "    \"\"\"Worker function for the process\"\"\"\n",
    "    print(\"Worker process started\")\n",
    "    print(f\"Worker process ID: {multiprocessing.current_process().pid}\")\n",
    "    print(\"Worker process finished\")\n",
    "\n",
    "if __name__ == \"__main__\":\n",
    "    # Create a new process\n",
    "    p = multiprocessing.Process(target=worker)\n",
    "\n",
    "    # Start the process\n",
    "    p.start()\n",
    "\n",
    "    # Wait for the process to finish\n",
    "    p.join()\n",
    "\n",
    "    print(\"Main process finished\")\n"
   ]
  },
  {
   "cell_type": "code",
   "execution_count": 2,
   "id": "d9b6c6d2-b067-4d2e-9028-aee6848e9358",
   "metadata": {},
   "outputs": [
    {
     "name": "stdout",
     "output_type": "stream",
     "text": [
      "this is my main prog\n",
      "this is my multiprocessing prog\n"
     ]
    }
   ],
   "source": [
    "import multiprocessing\n",
    "\n",
    "def test():\n",
    "    print(\"this is my multiprocessing prog\")\n",
    "\n",
    "if __name__ == \"__main__\":\n",
    "    m = multiprocessing.Process(target=test)\n",
    "    print(\"this is my main prog\")\n",
    "    m.start()\n",
    "    m.join()"
   ]
  },
  {
   "cell_type": "code",
   "execution_count": 6,
   "id": "04e341dd-d273-42e1-b3f2-8d333b6d05bc",
   "metadata": {},
   "outputs": [
    {
     "data": {
      "text/plain": [
       "'\\nQ4. What is a multiprocessing pool in python? Why is it used?\\nA multiprocessing pool in Python is a way to parallelize the execution of a function across \\nmultiple input values using a pool of worker processes.\\nIt allows you to distribute the workload across multiple CPUs and take advantage of multi-core processors.\\n\\nUsing a Pool can significantly speed up the execution of CPU-bound tasks by distributing the workload \\nacross multiple CPUs.\\n'"
      ]
     },
     "execution_count": 6,
     "metadata": {},
     "output_type": "execute_result"
    }
   ],
   "source": [
    "'''\n",
    "Q4. What is a multiprocessing pool in python? Why is it used?\n",
    "A multiprocessing pool in Python is a way to parallelize the execution of a function across \n",
    "multiple input values using a pool of worker processes.\n",
    "It allows you to distribute the workload across multiple CPUs and take advantage of multi-core processors.\n",
    "\n",
    "Using a Pool can significantly speed up the execution of CPU-bound tasks by distributing the workload \n",
    "across multiple CPUs.\n",
    "'''\n",
    "\n"
   ]
  },
  {
   "cell_type": "code",
   "execution_count": 5,
   "id": "7f4c813c-66b6-450f-a5b3-0a799fed9d32",
   "metadata": {},
   "outputs": [
    {
     "name": "stdout",
     "output_type": "stream",
     "text": [
      "[0, 1, 4, 9, 16, 25, 36, 49, 64, 81]\n"
     ]
    }
   ],
   "source": [
    "#Q5. How can we create a pool of worker processes in python using the multiprocessing module?\n",
    "import multiprocessing\n",
    "\n",
    "def square(x):\n",
    "    return x**2\n",
    "\n",
    "if __name__ == '__main__':\n",
    "    # Create a pool of 4 worker processes\n",
    "    with multiprocessing.Pool(processes=4) as pool1:\n",
    "        # Map the square function to a range of values\n",
    "        results = pool1.map(square, range(10))\n",
    "        print(results)"
   ]
  },
  {
   "cell_type": "code",
   "execution_count": null,
   "id": "56eb09ea-0942-49eb-bb67-930a142ac0ea",
   "metadata": {},
   "outputs": [],
   "source": [
    "#Q6. Write a python program to create 4 processes,\n",
    "#each process should print a different number using the multiprocessing module in python.\n",
    "import multiprocessing\n",
    "\n",
    "def print_number(num):\n",
    "    print(\"\\n Number:\", num )\n",
    "\n",
    "if __name__ == '__main__':\n",
    "    p1 = multiprocessing.Process(target=print_number, args=(1,))\n",
    "    p2 = multiprocessing.Process(target=print_number, args=(2,))\n",
    "    p3 = multiprocessing.Process(target=print_number, args=(3,))\n",
    "    p4 = multiprocessing.Process(target=print_number, args=(4,))\n",
    "    \n",
    "    p1.start()\n",
    "    p2.start()\n",
    "    p3.start()\n",
    "    p4.start()\n",
    "    \n",
    "    p1.join()\n",
    "    p2.join()\n",
    "    p3.join()\n",
    "    p4.join()\n"
   ]
  },
  {
   "cell_type": "code",
   "execution_count": null,
   "id": "48ea89d6-cf21-49dd-b15c-be0a5ae2f3aa",
   "metadata": {},
   "outputs": [],
   "source": []
  },
  {
   "cell_type": "code",
   "execution_count": null,
   "id": "8a356f68-7568-4f8f-8122-f29027fc7fe1",
   "metadata": {},
   "outputs": [],
   "source": []
  }
 ],
 "metadata": {
  "kernelspec": {
   "display_name": "Python 3 (ipykernel)",
   "language": "python",
   "name": "python3"
  },
  "language_info": {
   "codemirror_mode": {
    "name": "ipython",
    "version": 3
   },
   "file_extension": ".py",
   "mimetype": "text/x-python",
   "name": "python",
   "nbconvert_exporter": "python",
   "pygments_lexer": "ipython3",
   "version": "3.10.8"
  }
 },
 "nbformat": 4,
 "nbformat_minor": 5
}
