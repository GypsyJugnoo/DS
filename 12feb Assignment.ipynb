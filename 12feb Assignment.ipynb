{
 "cells": [
  {
   "cell_type": "code",
   "execution_count": 1,
   "id": "4b25d3a1-8896-455d-8b85-009d4837cf71",
   "metadata": {},
   "outputs": [
    {
     "data": {
      "text/plain": [
       "'Errors are the problems in a program due to which the program will stop the execution. On the other hand, exceptions are raised when some internal events occur which changes the normal flow of the program. \\nTwo types of Error occurs in python. \\n\\nSyntax errors\\nLogical errors (Exceptions) \\nWhen the proper syntax of the language is not followed then a syntax error is thrown.\\n\\nlogical errors(Exception)\\nWhen in the runtime an error that occurs after passing the syntax test is called exception or logical type.\\nFor example, when we divide any number by zero then the ZeroDivisionError exception is raised,\\nor when we import a module that does not exist then ImportError is raised.'"
      ]
     },
     "execution_count": 1,
     "metadata": {},
     "output_type": "execute_result"
    }
   ],
   "source": [
    "#Q1. What is an Exeption in python? Write the difference between Exeptions and syntax errors\n",
    "'''Errors are the problems in a program due to which the program will stop the execution. On the other hand, exceptions are raised when some internal events occur which changes the normal flow of the program. \n",
    "Two types of Error occurs in python. \n",
    "\n",
    "Syntax errors\n",
    "Logical errors (Exceptions) \n",
    "When the proper syntax of the language is not followed then a syntax error is thrown.\n",
    "\n",
    "logical errors(Exception)\n",
    "When in the runtime an error that occurs after passing the syntax test is called exception or logical type.\n",
    "For example, when we divide any number by zero then the ZeroDivisionError exception is raised,\n",
    "or when we import a module that does not exist then ImportError is raised.'''"
   ]
  },
  {
   "cell_type": "code",
   "execution_count": 2,
   "id": "65269fe0-4fa8-4749-9d25-cd958d3ae5a1",
   "metadata": {},
   "outputs": [
    {
     "ename": "ZeroDivisionError",
     "evalue": "division by zero",
     "output_type": "error",
     "traceback": [
      "\u001b[0;31m---------------------------------------------------------------------------\u001b[0m",
      "\u001b[0;31mZeroDivisionError\u001b[0m                         Traceback (most recent call last)",
      "Cell \u001b[0;32mIn[2], line 5\u001b[0m\n\u001b[1;32m      1\u001b[0m \u001b[38;5;66;03m#Q2. What happens when an exeption is not handled? Explain with an example\u001b[39;00m\n\u001b[1;32m      2\u001b[0m \u001b[38;5;124;03m'''When an exception is not handled, it will cause the program to terminate with an error message. \u001b[39;00m\n\u001b[1;32m      3\u001b[0m \u001b[38;5;124;03mThe error message will indicate the type of exception that was raised, as well as \u001b[39;00m\n\u001b[1;32m      4\u001b[0m \u001b[38;5;124;03mthe location in the code where the exception occurred.'''\u001b[39;00m\n\u001b[0;32m----> 5\u001b[0m x \u001b[38;5;241m=\u001b[39m \u001b[38;5;241;43m10\u001b[39;49m\u001b[43m \u001b[49m\u001b[38;5;241;43m/\u001b[39;49m\u001b[43m \u001b[49m\u001b[38;5;241;43m0\u001b[39;49m\n\u001b[1;32m      6\u001b[0m \u001b[38;5;28mprint\u001b[39m(\u001b[38;5;124m'\u001b[39m\u001b[38;5;124mhi...\u001b[39m\u001b[38;5;124m'\u001b[39m)\n",
      "\u001b[0;31mZeroDivisionError\u001b[0m: division by zero"
     ]
    }
   ],
   "source": [
    "#Q2. What happens when an exeption is not handled? Explain with an example\n",
    "'''When an exception is not handled, it will cause the program to terminate with an error message. \n",
    "The error message will indicate the type of exception that was raised, as well as \n",
    "the location in the code where the exception occurred.'''\n",
    "x = 10 / 0\n",
    "print('hi...')\n"
   ]
  },
  {
   "cell_type": "code",
   "execution_count": 3,
   "id": "38db7a63-49fb-4a19-b2d1-0e81a7a120d5",
   "metadata": {},
   "outputs": [
    {
     "name": "stdout",
     "output_type": "stream",
     "text": [
      "Error: Cannot divide by zero\n",
      "hi...\n"
     ]
    }
   ],
   "source": [
    "try:\n",
    "    # This code will raise a ZeroDivisionError exception\n",
    "    x = 10 / 0\n",
    "except ZeroDivisionError:\n",
    "    # Handle the exception\n",
    "    print('Error: Cannot divide by zero')\n",
    "print('hi...')    "
   ]
  },
  {
   "cell_type": "code",
   "execution_count": 4,
   "id": "de55f191-b607-4377-ad68-f456323e71c3",
   "metadata": {},
   "outputs": [
    {
     "name": "stdout",
     "output_type": "stream",
     "text": [
      "Division by zero is not allowed\n"
     ]
    }
   ],
   "source": [
    "#Q3. Which Python statements are used to catch and handle exeptions? Explain with an example\n",
    "'''In Python, the try and except statements are used to catch and handle exceptions. \n",
    "The basic syntax for using try and except statements is as follows:'''\n",
    "try:\n",
    "    x = 10 / 0\n",
    "except ZeroDivisionError:\n",
    "    print(\"Division by zero is not allowed\")\n"
   ]
  },
  {
   "cell_type": "code",
   "execution_count": 5,
   "id": "62453cdf-51fd-49b7-b8b9-b63795b08e18",
   "metadata": {},
   "outputs": [
    {
     "name": "stdout",
     "output_type": "stream",
     "text": [
      "Division by zero is not allowed\n"
     ]
    }
   ],
   "source": [
    "try:\n",
    "    \n",
    "    x = 10/0\n",
    "    y = int(\"hello\")\n",
    "except ZeroDivisionError:\n",
    "    print(\"Division by zero is not allowed\")\n",
    "except ValueError:\n",
    "    print(\"Invalid value\")"
   ]
  },
  {
   "cell_type": "code",
   "execution_count": 6,
   "id": "d3ccd3dc-0175-4e45-a2e1-85c32a82730b",
   "metadata": {},
   "outputs": [
    {
     "name": "stdout",
     "output_type": "stream",
     "text": [
      "Invalid value\n"
     ]
    }
   ],
   "source": [
    "try:\n",
    "    y = int(\"hello\")\n",
    "    x = 10/0\n",
    "except ZeroDivisionError:\n",
    "    print(\"Division by zero is not allowed\")\n",
    "except ValueError:\n",
    "    print(\"Invalid value\")"
   ]
  },
  {
   "cell_type": "code",
   "execution_count": 7,
   "id": "6bcfa861-8564-4588-9331-420ed27f7da7",
   "metadata": {},
   "outputs": [],
   "source": [
    "#Q4. Explain with an example:#try and else #finally # raise"
   ]
  },
  {
   "cell_type": "code",
   "execution_count": 9,
   "id": "812ed220-ba88-46a6-9085-a8fa4ce112ec",
   "metadata": {},
   "outputs": [
    {
     "name": "stdin",
     "output_type": "stream",
     "text": [
      "Enter a number:  5\n"
     ]
    },
    {
     "name": "stdout",
     "output_type": "stream",
     "text": [
      "The square of the number is: 25\n"
     ]
    }
   ],
   "source": [
    "try:\n",
    "    num = int(input(\"Enter a number: \"))\n",
    "except ValueError:\n",
    "    print(\"Invalid input\")\n",
    "else:\n",
    "    print(\"The square of the number is:\", num**2)"
   ]
  },
  {
   "cell_type": "code",
   "execution_count": 12,
   "id": "852f5a88-3dbc-448c-a1e5-6dc969231c62",
   "metadata": {},
   "outputs": [
    {
     "name": "stdin",
     "output_type": "stream",
     "text": [
      "Enter a number:  hi\n"
     ]
    },
    {
     "name": "stdout",
     "output_type": "stream",
     "text": [
      "Invalid input\n"
     ]
    }
   ],
   "source": [
    "try:\n",
    "    num = int(input(\"Enter a number: \"))\n",
    "except ValueError:\n",
    "    print(\"Invalid input\")\n",
    "else:\n",
    "    print(\"The square of the number is:\", num**2)"
   ]
  },
  {
   "cell_type": "code",
   "execution_count": 13,
   "id": "942db449-c344-496d-af82-51b71c613d0f",
   "metadata": {},
   "outputs": [
    {
     "name": "stdin",
     "output_type": "stream",
     "text": [
      "Enter a number:  hi\n"
     ]
    },
    {
     "name": "stdout",
     "output_type": "stream",
     "text": [
      "Invalid input\n",
      "Execution completed\n"
     ]
    }
   ],
   "source": [
    "try:\n",
    "    num = int(input(\"Enter a number: \"))\n",
    "except ValueError:\n",
    "    print(\"Invalid input\")\n",
    "else:\n",
    "    print(\"The square of the number is:\", num**2)\n",
    "finally:\n",
    "    print(\"Execution completed\")"
   ]
  },
  {
   "cell_type": "code",
   "execution_count": 14,
   "id": "aaa0da4a-f38f-49d3-804f-24d3d82fff17",
   "metadata": {},
   "outputs": [],
   "source": [
    "#Q5.Custom Exceptions in python?\n",
    "'''Custom exceptions in Python allow you to define\n",
    "your own exception types to handle specific errors in your code.\n",
    "You can create custom exceptions by defining a new class and inheriting from the built-in Exception class.'''\n",
    "class MyCustomException(Exception):\n",
    "    pass\n",
    "\n",
    "def my_function(x):\n",
    "    if x < 0:\n",
    "        raise MyCustomException(\"x cannot be negative\")\n",
    "    return x * 2\n",
    "\n"
   ]
  },
  {
   "cell_type": "code",
   "execution_count": null,
   "id": "16ddb2ce-648f-40d7-8c39-13f880f502d6",
   "metadata": {},
   "outputs": [],
   "source": [
    "#Q6. Create custom exception class. Use this  class to handle an exception.\n",
    "try:\n",
    "    result = my_function(-5)\n",
    "    print(result)\n",
    "except MyCustomException as e:\n",
    "    print(\"Error:\", e)\n",
    "    "
   ]
  },
  {
   "cell_type": "code",
   "execution_count": null,
   "id": "cf1593cf-f4d3-4ed0-8248-d73d67e6f6e2",
   "metadata": {},
   "outputs": [],
   "source": [
    "my_function(5)"
   ]
  },
  {
   "cell_type": "code",
   "execution_count": null,
   "id": "1736c79c-4298-4859-b936-f9d898e18dc1",
   "metadata": {},
   "outputs": [],
   "source": [
    "my_function(-5)"
   ]
  },
  {
   "cell_type": "code",
   "execution_count": null,
   "id": "64df70e5-f630-4c00-a7da-444db0510f04",
   "metadata": {},
   "outputs": [],
   "source": [
    "try:\n",
    "    result = my_function(-5)\n",
    "    print(result)\n",
    "except MyCustomException as e:\n",
    "    print(\"Error:\", e)\n",
    "    "
   ]
  },
  {
   "cell_type": "code",
   "execution_count": null,
   "id": "51b9ca75-b7aa-4b75-9d7e-9917bdd0221a",
   "metadata": {},
   "outputs": [],
   "source": []
  },
  {
   "cell_type": "code",
   "execution_count": null,
   "id": "b393595c-c665-4b8f-bb8c-7c14e80464c3",
   "metadata": {},
   "outputs": [],
   "source": []
  }
 ],
 "metadata": {
  "kernelspec": {
   "display_name": "Python 3 (ipykernel)",
   "language": "python",
   "name": "python3"
  },
  "language_info": {
   "codemirror_mode": {
    "name": "ipython",
    "version": 3
   },
   "file_extension": ".py",
   "mimetype": "text/x-python",
   "name": "python",
   "nbconvert_exporter": "python",
   "pygments_lexer": "ipython3",
   "version": "3.10.8"
  }
 },
 "nbformat": 4,
 "nbformat_minor": 5
}
