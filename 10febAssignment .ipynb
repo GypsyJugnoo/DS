{
 "cells": [
  {
   "cell_type": "code",
   "execution_count": 6,
   "id": "1b290f5e-1d7f-4901-84be-7b092b5e9ce7",
   "metadata": {},
   "outputs": [],
   "source": [
    "\n",
    "#Q1. Which function is used to open a file? \n",
    "#What are the different modes of opening a file? Explain each mode of file opening.\n",
    "\n",
    "'''In Python, the open() function is used to open a file.\n",
    "\n",
    "The open() function takes two arguments: the name of the file to be opened (including the path, \n",
    "if the file is not in the current directory), and the mode in which the file is to be opened.\n",
    "\n",
    "Here are the different modes of opening a file in Python:\n",
    "\n",
    "'r' mode (read-only): This is the default mode for opening a file. In this mode, \n",
    "you can only read the contents of the file but cannot modify it. If the file does not exist, \n",
    "an error will be raised.\n",
    "\n",
    "'w' mode (write-only): In this mode, you can only write to the file and cannot read from it. \n",
    "If the file does not exist, it will be created. If the file already exists, \n",
    "its contents will be truncated (i.e., deleted) before writing to it.\n",
    "\n",
    "'a' mode (append-only): In this mode, you can only write to the file and cannot read from it. \n",
    "If the file does not exist, it will be created. If the file already exists,\n",
    "new data will be appended to the end of the file.\n",
    "\n",
    "'x' mode (exclusive creation): In this mode, \n",
    "you can only write to the file and cannot read from it. \n",
    "If the file does not exist, it will be created. If the file already exists, an error will be raised.\n",
    "\n",
    "'b' mode (binary mode): This mode is used when working with binary files (e.g., images, audio files, etc.).\n",
    "It can be used with any of the above modes by adding the 'b' character to the mode string.\n",
    "\n",
    "'t' mode (text mode): This mode is used when working with text files (e.g., .txt files).\n",
    "It can be used with any of the above modes by adding the 't' character to the mode string.\n",
    "\n",
    "Here is an example of opening a file in write mode:\n",
    "In this example, we open the file 'myfile.txt' in write mode using the open() function with the mode 'w'. \n",
    "We then write the text 'This is a line of text' to the file using the write() method of the file object. \n",
    "Finally, we close the file using the close() method of the file object.\n",
    "\n",
    "it is good practice to close the file after using it to ensure that\n",
    "all the data is saved to the file and that system resources are freed up.'''\n",
    "\n",
    "# Open a file in write mode\n",
    "file = open('myfile.txt', 'w')\n",
    "\n",
    "# Write some text to the file\n",
    "file.write('This is a line of text')\n",
    "\n",
    "# Close the file\n",
    "file.close()\n"
   ]
  },
  {
   "cell_type": "code",
   "execution_count": 8,
   "id": "2d50d60c-c18a-4779-936a-eb4a35b9bced",
   "metadata": {},
   "outputs": [
    {
     "name": "stdout",
     "output_type": "stream",
     "text": [
      "This is a line of text\n"
     ]
    },
    {
     "data": {
      "text/plain": [
       "'This is a line of text'"
      ]
     },
     "execution_count": 8,
     "metadata": {},
     "output_type": "execute_result"
    }
   ],
   "source": [
    "file = open('myfile.txt', 'r')\n",
    "\n",
    "# read some text to the file\n",
    "r =file.read()\n",
    "print(r)\n",
    "# Close the file\n",
    "file.close()\n",
    "r"
   ]
  },
  {
   "cell_type": "code",
   "execution_count": 9,
   "id": "d0664c56-2b6d-43e3-8c62-67f7f8ee3053",
   "metadata": {},
   "outputs": [
    {
     "data": {
      "text/plain": [
       "'it is good practice to close the file after using it to ensure that\\nall the data is saved to the file and that system resources are freed up.'"
      ]
     },
     "execution_count": 9,
     "metadata": {},
     "output_type": "execute_result"
    }
   ],
   "source": [
    "\n",
    "#Q2. Why close() function is used? Why is it important to close a file?\n",
    "'''it is good practice to close the file after using it to ensure that\n",
    "all the data is saved to the file and that system resources are freed up.'''\n"
   ]
  },
  {
   "cell_type": "code",
   "execution_count": 10,
   "id": "66914c62-f08e-4caf-a683-2fd968acbb04",
   "metadata": {},
   "outputs": [],
   "source": [
    "\n",
    "#Q3. Write a python program to create a text file. Write ‘I want to become a Data Scientist’ in that file. \n",
    "#Then close the file. Open this file and read the content of the file.\n",
    "# Open a file in write mode\n",
    "file = open('M9.txt', 'w')\n",
    "\n",
    "file.write('I want to become a Data Scientist')\n",
    "\n",
    "file.close()\n"
   ]
  },
  {
   "cell_type": "code",
   "execution_count": 12,
   "id": "1c00be08-6a7d-4e39-96e2-75a4db3398e9",
   "metadata": {},
   "outputs": [
    {
     "name": "stdout",
     "output_type": "stream",
     "text": [
      "I want to become a Data Scientist\n"
     ]
    },
    {
     "data": {
      "text/plain": [
       "'I want to become a Data Scientist'"
      ]
     },
     "execution_count": 12,
     "metadata": {},
     "output_type": "execute_result"
    }
   ],
   "source": [
    "file = open('M9.txt', 'r')\n",
    "\n",
    "r =file.read()\n",
    "\n",
    "print(r)\n",
    "\n",
    "file.close()\n",
    "\n",
    "r"
   ]
  },
  {
   "cell_type": "code",
   "execution_count": 3,
   "id": "9aa9d3a8-83c4-404f-93bc-c91dc83cad92",
   "metadata": {},
   "outputs": [
    {
     "name": "stdout",
     "output_type": "stream",
     "text": [
      "<_io.TextIOWrapper name='Table5.txt' mode='a' encoding='UTF-8'>\n"
     ]
    }
   ],
   "source": [
    "\n",
    "#Q4. Explain the following with python code: read(), readline() and readlines().\n",
    "file = open('Table5.txt', 'a')\n",
    "for i in range(1,11):\n",
    "    file.write(f'hi...{i} \\n')\n",
    "\n",
    "file.close()\n",
    "print(file)\n"
   ]
  },
  {
   "cell_type": "code",
   "execution_count": 4,
   "id": "18974134-2cbf-4d98-9e8d-df6f61d719fb",
   "metadata": {},
   "outputs": [
    {
     "name": "stdout",
     "output_type": "stream",
     "text": [
      "hi...1 \n",
      "hi...2 \n",
      "hi...3 \n",
      "hi...4 \n",
      "hi...5 \n",
      "hi...6 \n",
      "hi...7 \n",
      "hi...8 \n",
      "hi...9 \n",
      "hi...10 \n",
      "\n"
     ]
    }
   ],
   "source": [
    "# Example using read() method\n",
    "with open('Table5.txt', 'r') as f:\n",
    "    data = f.read()\n",
    "print(data)"
   ]
  },
  {
   "cell_type": "code",
   "execution_count": 5,
   "id": "7c592b63-3f1e-4f43-a2de-7d94ec549f83",
   "metadata": {},
   "outputs": [
    {
     "name": "stdout",
     "output_type": "stream",
     "text": [
      "hi...1 \n",
      "\n",
      "hi...2 \n",
      "\n",
      "hi...3 \n",
      "\n",
      "hi...4 \n",
      "\n",
      "hi...5 \n",
      "\n",
      "hi...6 \n",
      "\n",
      "hi...7 \n",
      "\n",
      "hi...8 \n",
      "\n",
      "hi...9 \n",
      "\n",
      "hi...10 \n",
      "\n"
     ]
    }
   ],
   "source": [
    "# Example using readline() method\n",
    "with open('Table5.txt', 'r') as f:\n",
    "    line = f.readline()\n",
    "    while line:\n",
    "        print(line)\n",
    "        line = f.readline()\n"
   ]
  },
  {
   "cell_type": "code",
   "execution_count": 6,
   "id": "80e187bd-6a8e-4176-9397-4a72741fa98f",
   "metadata": {},
   "outputs": [
    {
     "name": "stdout",
     "output_type": "stream",
     "text": [
      "hi...1 \n",
      "\n",
      "hi...2 \n",
      "\n",
      "hi...3 \n",
      "\n",
      "hi...4 \n",
      "\n",
      "hi...5 \n",
      "\n",
      "hi...6 \n",
      "\n",
      "hi...7 \n",
      "\n",
      "hi...8 \n",
      "\n",
      "hi...9 \n",
      "\n",
      "hi...10 \n",
      "\n"
     ]
    }
   ],
   "source": [
    "# Example using readlines() method\n",
    "with open('Table5.txt', 'r') as f:\n",
    "    lines = f.readlines()\n",
    "    for line in lines:\n",
    "        print(line)\n"
   ]
  },
  {
   "cell_type": "code",
   "execution_count": null,
   "id": "8daad224-07c3-44fc-b8cc-3253add95f51",
   "metadata": {},
   "outputs": [],
   "source": [
    "#Q5. Explain why with statement is used with open(). \n",
    "#What is the advantage of using with statement and open() together?\n",
    "'''The with statement is used with open() in Python to ensure that\n",
    "a file is closed properly after it has been used. \n",
    "When a file is opened in Python, it must be explicitly closed using the close() method. \n",
    "If the file is not closed properly,it can lead to data corruption or other issues.'''"
   ]
  },
  {
   "cell_type": "code",
   "execution_count": 7,
   "id": "198d847d-adea-49a6-bc93-55d2eb6e0022",
   "metadata": {},
   "outputs": [],
   "source": [
    "#Q6. Explain the write() and writelines() functions. Give a suitable example.\n",
    "'''The write() function is used to write a string to a file.\n",
    "It takes a single argument, which is the string to be written to the file.'''\n",
    "with open('example.txt', 'w') as f:\n",
    "    # Write a string to the file\n",
    "    f.write('This is a test.\\n')"
   ]
  },
  {
   "cell_type": "code",
   "execution_count": 8,
   "id": "2b5862f3-b972-474e-82c3-fe55c09f7398",
   "metadata": {},
   "outputs": [],
   "source": [
    "'''The writelines() function is used to write a list of strings to a file.\n",
    "It takes a single argument, which is a list of strings to be written to the file.\n",
    "Each string in the list will be written to the file on a separate line.'''\n",
    "with open('example.txt', 'w') as f:\n",
    "    # Write a list of strings to the file\n",
    "    f.writelines(['This is line 1.\\n', 'This is line 2.\\n', 'This is line 3.\\n'])"
   ]
  },
  {
   "cell_type": "code",
   "execution_count": null,
   "id": "dab386a4-1100-42ac-b0d0-3af122559f51",
   "metadata": {},
   "outputs": [],
   "source": []
  }
 ],
 "metadata": {
  "kernelspec": {
   "display_name": "Python 3 (ipykernel)",
   "language": "python",
   "name": "python3"
  },
  "language_info": {
   "codemirror_mode": {
    "name": "ipython",
    "version": 3
   },
   "file_extension": ".py",
   "mimetype": "text/x-python",
   "name": "python",
   "nbconvert_exporter": "python",
   "pygments_lexer": "ipython3",
   "version": "3.10.8"
  }
 },
 "nbformat": 4,
 "nbformat_minor": 5
}
