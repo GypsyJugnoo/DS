{
 "cells": [
  {
   "cell_type": "markdown",
   "id": "8f86fe38-5500-4bbe-ac9f-0c4cce04eccb",
   "metadata": {},
   "source": [
    "Q1. Explain Class and Object with respect to Object-Oriented Programming. Give a suitable example.\n",
    "Q2. Name the four pillars of OOPs.\n",
    "Q3. Explain why the __init__() function is used. Give a suitable example.\n",
    "Q4. Why self is used in OOPs?\n",
    "Q5. What is inheritance? Give an example for each type of inheritance."
   ]
  },
  {
   "cell_type": "code",
   "execution_count": 5,
   "id": "25f75773-9e24-4836-8632-d4ff87b2b597",
   "metadata": {},
   "outputs": [
    {
     "data": {
      "text/plain": [
       "('#001', 'st@email.com', 'UK')"
      ]
     },
     "execution_count": 5,
     "metadata": {},
     "output_type": "execute_result"
    }
   ],
   "source": [
    "#Q1. Explain Class and Object with respect to Object-Oriented Programming.\n",
    "#Give a suitable example.\n",
    "'''A Class in object oriented programming is a blueprint or prototype that defines\n",
    "the variables and the methods (functions) common to all instances/Objects of that class.\n",
    "An object in OOPS is a specimen of a class.'''\n",
    "\n",
    "class Student():\n",
    "    \n",
    "    def __init__(self ,student_id , email_id, country ):\n",
    "        \n",
    "        self.student_id = student_id\n",
    "        self.email_id = email_id\n",
    "        self.country = country\n",
    "    def intro(self):\n",
    "        print(\"i'm an instance of class Student \")    \n",
    "    \n",
    "    def student_details(self):\n",
    "        return self.student_id,self.email_id,self.country\n",
    "\n",
    "st=Student('#001','st@email.com', 'UK')\n",
    "st.student_details()"
   ]
  },
  {
   "cell_type": "code",
   "execution_count": 7,
   "id": "b814d2aa-e6eb-4b22-bb9f-6d9612720fcb",
   "metadata": {},
   "outputs": [
    {
     "data": {
      "text/plain": [
       "'These principles are called the four pillars of object-oriented programming (OOP). \\nThese four pillars are Inheritance, Polymorphism, Encapsulation and Abstraction'"
      ]
     },
     "execution_count": 7,
     "metadata": {},
     "output_type": "execute_result"
    }
   ],
   "source": [
    "#Q2.Name the four pillars of OOPs.\n",
    "'''These principles are called the four pillars of object-oriented programming (OOP). \n",
    "These four pillars are Inheritance, Polymorphism, Encapsulation and Abstraction'''"
   ]
  },
  {
   "cell_type": "code",
   "execution_count": 9,
   "id": "97db4561-6a16-465b-8b71-3283b74aa18e",
   "metadata": {},
   "outputs": [
    {
     "data": {
      "text/plain": [
       "('#001', 'st@email.com', 'UK')"
      ]
     },
     "execution_count": 9,
     "metadata": {},
     "output_type": "execute_result"
    }
   ],
   "source": [
    "#Q3. Explain why the __init__() function is used. Give a suitable example.\n",
    "'''The __init__ function is called every time an object is created from a class. \n",
    "The __init__ method lets the class initialize the object's attributes '''\n",
    "class Student():\n",
    "    \n",
    "    def __init__(self ,student_id , email_id, country ):\n",
    "        \n",
    "        self.student_id = student_id\n",
    "        self.email_id = email_id\n",
    "        self.country = country\n",
    "    def intro(self):\n",
    "        print(\"i'm an instance of class Student \")    \n",
    "    \n",
    "    def student_details(self):\n",
    "        return self.student_id,self.email_id,self.country\n",
    "\n",
    "st=Student('#001','st@email.com', 'UK')\n",
    "st.student_details()"
   ]
  },
  {
   "cell_type": "code",
   "execution_count": 10,
   "id": "9a6b01e6-576c-4f14-a28b-c53f4468c505",
   "metadata": {},
   "outputs": [
    {
     "data": {
      "text/plain": [
       "'The self variable is used to represent the instance of the class \\nwhich is often used in object-oriented programming.It works as a reference to the object.\\nPython uses the self parameter to refer to instance attributes and methods of the class.'"
      ]
     },
     "execution_count": 10,
     "metadata": {},
     "output_type": "execute_result"
    }
   ],
   "source": [
    "#Q4. Why self is used in OOPs?\n",
    "'''The self variable is used to represent the instance of the class \n",
    "which is often used in object-oriented programming.It works as a reference to the object.\n",
    "Python uses the self parameter to refer to instance attributes and methods of the class.'''"
   ]
  },
  {
   "cell_type": "code",
   "execution_count": 49,
   "id": "63851e4a-071a-48c2-ab37-749d4efc67c2",
   "metadata": {},
   "outputs": [],
   "source": [
    "#Q5. What is inheritance? Give an example for each type of inheritance.\n",
    "#Parent class\n",
    "class Vehicle:\n",
    "    \n",
    "    def __init__(self, MC, YoM):\n",
    "        self.manufacturer_company = MC \n",
    "        self.year_of_manufacturing = YoM\n",
    "        \n",
    "    def vehicle_details(self):\n",
    "        return self.manufacturer_company,self.year_of_manufacturing\n",
    "   \n",
    "\n"
   ]
  },
  {
   "cell_type": "code",
   "execution_count": 51,
   "id": "f9217afb-5fe8-4059-ba90-12d60d7dadea",
   "metadata": {},
   "outputs": [
    {
     "data": {
      "text/plain": [
       "('tata', 1990)"
      ]
     },
     "execution_count": 51,
     "metadata": {},
     "output_type": "execute_result"
    }
   ],
   "source": [
    "vh1=Vehicle('tata',1990)\n",
    "vh1.vehicle_details()"
   ]
  },
  {
   "cell_type": "code",
   "execution_count": 54,
   "id": "0aa2fa1d-322a-40ce-878c-d2c439b1f882",
   "metadata": {},
   "outputs": [],
   "source": [
    "#Child class that inherits from the pa_rent class\n",
    "\n",
    "class Bikes(Vehicle):\n",
    "    \n",
    "    def __init__(self, MC, YoM, handle_bar_type):\n",
    "        # Using super to access methods of the parent class \n",
    "        super().__init__(MC, YoM) \n",
    "        self.handle_bar_type = handle_bar_type\n",
    "    def bike_details(self):\n",
    "        return self.manufacturer_company, self.year_of_manufacturing, self.handle_bar_type\n",
    "        \n",
    "    "
   ]
  },
  {
   "cell_type": "code",
   "execution_count": 55,
   "id": "5229997b-6868-449f-bffa-5423c525d543",
   "metadata": {},
   "outputs": [],
   "source": [
    "bk1=Bikes('hero', 2010,'standard')"
   ]
  },
  {
   "cell_type": "code",
   "execution_count": 56,
   "id": "b7d1a290-13de-4aff-b6bf-a03b39e8eb39",
   "metadata": {},
   "outputs": [
    {
     "data": {
      "text/plain": [
       "<__main__.Bikes at 0x7f9d90f1a0b0>"
      ]
     },
     "execution_count": 56,
     "metadata": {},
     "output_type": "execute_result"
    }
   ],
   "source": [
    "bk1"
   ]
  },
  {
   "cell_type": "code",
   "execution_count": 57,
   "id": "bce039ea-b7b6-41c2-845d-ec287d4e3d3a",
   "metadata": {},
   "outputs": [
    {
     "data": {
      "text/plain": [
       "('hero', 2010)"
      ]
     },
     "execution_count": 57,
     "metadata": {},
     "output_type": "execute_result"
    }
   ],
   "source": [
    "bk1.vehicle_details()"
   ]
  },
  {
   "cell_type": "code",
   "execution_count": 58,
   "id": "dea95923-45b1-4ec1-8aff-702ba82c6fb2",
   "metadata": {},
   "outputs": [
    {
     "data": {
      "text/plain": [
       "('hero', 2010, 'standard')"
      ]
     },
     "execution_count": 58,
     "metadata": {},
     "output_type": "execute_result"
    }
   ],
   "source": [
    "bk1.bike_details()"
   ]
  },
  {
   "cell_type": "code",
   "execution_count": null,
   "id": "6fbe165e-92ef-4545-9581-daa55e75231a",
   "metadata": {},
   "outputs": [],
   "source": []
  }
 ],
 "metadata": {
  "kernelspec": {
   "display_name": "Python 3 (ipykernel)",
   "language": "python",
   "name": "python3"
  },
  "language_info": {
   "codemirror_mode": {
    "name": "ipython",
    "version": 3
   },
   "file_extension": ".py",
   "mimetype": "text/x-python",
   "name": "python",
   "nbconvert_exporter": "python",
   "pygments_lexer": "ipython3",
   "version": "3.10.8"
  }
 },
 "nbformat": 4,
 "nbformat_minor": 5
}
