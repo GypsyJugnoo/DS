{
 "cells": [
  {
   "cell_type": "markdown",
   "id": "ce3ed757-db36-4dff-85db-c55be1ba5b1b",
   "metadata": {},
   "source": [
    "1. Write a program to accept percentage from the user and display the grade according to the following \n",
    "criteria: \n",
    "Marks \n",
    "Grade \n",
    ">90 \n",
    "A \n",
    ">80 and <=90 \n",
    "B \n",
    ">=60 and <=80 \n",
    "C \n",
    "below 60 \n",
    "D \n"
   ]
  },
  {
   "cell_type": "code",
   "execution_count": 9,
   "id": "e64fcd4e-6b96-464b-a794-1328ed074dc4",
   "metadata": {},
   "outputs": [
    {
     "name": "stdin",
     "output_type": "stream",
     "text": [
      "enter percentage:  60\n"
     ]
    },
    {
     "name": "stdout",
     "output_type": "stream",
     "text": [
      "C\n"
     ]
    }
   ],
   "source": [
    "percentage = int(input('enter percentage: '))\n",
    "if percentage>90 :print('A')\n",
    "elif 90>=percentage>80 :print('B')\n",
    "elif 80>=percentage>=60 :print('C')\n",
    "else:print('D')"
   ]
  },
  {
   "cell_type": "markdown",
   "id": "8603f114-6c4c-4da0-ba57-4b872538106a",
   "metadata": {},
   "source": [
    "2. Write a program to accept the cost price of a bike and display the road tax to be paid according to the \n",
    "following criteria: \n",
    "Tax \n",
    "15% \n",
    "10% \n",
    "5% \n",
    "Cost Price(in Rs) \n",
    ">100000 \n",
    ">50000 and <= 100000 \n",
    "<= 50000 \n"
   ]
  },
  {
   "cell_type": "code",
   "execution_count": 11,
   "id": "f3be4887-cde2-4fde-9a33-7a49f66bf513",
   "metadata": {},
   "outputs": [
    {
     "name": "stdin",
     "output_type": "stream",
     "text": [
      "enter cost price of a bike:  1000000\n"
     ]
    },
    {
     "name": "stdout",
     "output_type": "stream",
     "text": [
      "15% tax of 1000000 will be: 150000.0\n"
     ]
    }
   ],
   "source": [
    "cost_price = int(input('enter cost price of a bike: '))\n",
    "if cost_price>100000 :print(f'15% tax of {cost_price} will be: {cost_price*0.15}')\n",
    "elif 100000>=cost_price>50000 :print(f'10% tax of {cost_price} will be: {cost_price*0.1}')\n",
    "else:print(f'5% tax of {cost_price} will be: {cost_price*0.05}')"
   ]
  },
  {
   "cell_type": "markdown",
   "id": "46b7be9a-4311-4674-9edd-c34bb65ed5a3",
   "metadata": {},
   "source": [
    "3. Accept any city from the user and display monuments of that city. \n",
    "City \n",
    "Delhi \n",
    "Monument \n",
    "Red Fort \n",
    "Taj Mahal \n",
    "Agra \n",
    "Jaipur \n",
    "Jal Mahal "
   ]
  },
  {
   "cell_type": "code",
   "execution_count": 5,
   "id": "93b63b31-d4e2-4d80-9d87-99536a5fccc6",
   "metadata": {},
   "outputs": [
    {
     "name": "stdin",
     "output_type": "stream",
     "text": [
      "enter city Delhi/Agra/Jaipur :  Agra\n"
     ]
    },
    {
     "name": "stdout",
     "output_type": "stream",
     "text": [
      "Taj Mahal\n"
     ]
    }
   ],
   "source": [
    "city = input('enter city Delhi/Agra/Jaipur : ')\n",
    "if city=='Delhi':print('Red Fort')\n",
    "elif city=='Agra':print('Taj Mahal')\n",
    "elif city=='Jaipur':print('Jal Mahal')\n",
    "else:print('enter city Delhi/Agra/Jaipur')"
   ]
  },
  {
   "cell_type": "markdown",
   "id": "ea1d3fba-685b-4dab-b2b1-59b392d3a52e",
   "metadata": {},
   "source": [
    "4. Check how many times a given number can be divided by 3 \n",
    "before it is less than or equal to 10."
   ]
  },
  {
   "cell_type": "code",
   "execution_count": 18,
   "id": "ec719d41-80a2-4fb4-a96e-f2f43ec741a8",
   "metadata": {},
   "outputs": [
    {
     "name": "stdin",
     "output_type": "stream",
     "text": [
      "enter no. :  243\n"
     ]
    },
    {
     "name": "stdout",
     "output_type": "stream",
     "text": [
      "5\n"
     ]
    }
   ],
   "source": [
    "no = int(input('enter no. : '))\n",
    "count=0\n",
    "while no%3==0:\n",
    "    count+=1\n",
    "    Q=no/3\n",
    "    no=Q\n",
    "print(count)  "
   ]
  },
  {
   "cell_type": "markdown",
   "id": "2578659a-dc7d-483f-a239-450c26994ca9",
   "metadata": {},
   "source": [
    "'''5. Why and When to Use while Loop in Python give a detailed description with example \n",
    "\n",
    "Python While Loop is used to execute a block of statements repeatedly until a given condition is satisfied. And when the condition becomes false, the line immediately after the loop in the program is executed.\n",
    "lop for indefinite iteration. Indefinite iteration means that the number of times the loop is executed isn’t specified explicitly in advance.\n",
    "\n",
    "example'''\n",
    "\n",
    "no = int(input('enter no. : '))\n",
    "count=0\n",
    "while no%3==0:\n",
    "    count+=1\n",
    "    Q=no/3\n",
    "    no=Q\n",
    "print(count) "
   ]
  },
  {
   "cell_type": "code",
   "execution_count": null,
   "id": "931ea359-aa99-45ad-b68b-ab08e6704a87",
   "metadata": {},
   "outputs": [],
   "source": [
    "#6. Use nested while loop to print 3 different pattern.\n"
   ]
  },
  {
   "cell_type": "code",
   "execution_count": 19,
   "id": "c75dbb3f-d1f8-41bd-8be9-3c5a3f94c0fb",
   "metadata": {},
   "outputs": [
    {
     "name": "stdout",
     "output_type": "stream",
     "text": [
      "10\n",
      "9\n",
      "8\n",
      "7\n",
      "6\n",
      "5\n",
      "4\n",
      "3\n",
      "2\n",
      "1\n"
     ]
    }
   ],
   "source": [
    "#7. Reverse a while loop to display numbers from 10 to 1\n",
    "count=10\n",
    "while count!=0:\n",
    "    print(count)\n",
    "    count-=1\n",
    "    \n"
   ]
  },
  {
   "cell_type": "code",
   "execution_count": null,
   "id": "b29618a0-8e09-4e2b-bd5f-a81d5dacbfe7",
   "metadata": {},
   "outputs": [],
   "source": []
  }
 ],
 "metadata": {
  "kernelspec": {
   "display_name": "Python 3 (ipykernel)",
   "language": "python",
   "name": "python3"
  },
  "language_info": {
   "codemirror_mode": {
    "name": "ipython",
    "version": 3
   },
   "file_extension": ".py",
   "mimetype": "text/x-python",
   "name": "python",
   "nbconvert_exporter": "python",
   "pygments_lexer": "ipython3",
   "version": "3.10.8"
  }
 },
 "nbformat": 4,
 "nbformat_minor": 5
}
