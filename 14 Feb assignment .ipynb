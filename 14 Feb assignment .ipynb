{
 "cells": [
  {
   "cell_type": "markdown",
   "id": "fa07ab0f-9a59-4581-9f37-f0e9b24e1f85",
   "metadata": {},
   "source": [
    "#1. What is multithreading in python? hy is it used? Name the module used to handle threads in python\n",
    "'''\n",
    "Multithreading in Python refers to the ability to run multiple threads concurrently within a single program.\n",
    "A thread is a separate flow of execution that can run simultaneously with other threads.\n",
    "Multithreading is used to improve the performance of applications \n",
    "by allowing them to execute multiple tasks in parallel.'''\n"
   ]
  },
  {
   "cell_type": "code",
   "execution_count": 2,
   "id": "4b480812-2a5c-43d0-b22f-f4c69d86d8a3",
   "metadata": {},
   "outputs": [
    {
     "data": {
      "text/plain": [
       "'2. Why threading module used? rite the use of the following functions\\n( activeCount\\n currentThread\\n enumerate)\\n \\nMultithreading is used to improve the performance of applications \\nby allowing them to execute multiple tasks in parallel.\\n\\nactiveCount: This function returns the number of active threads in the current process.\\n\\ncurrentThread: This function returns a reference to the current thread object.\\n\\nenumerate: This function returns a list of all thread objects that are currently active.\\n\\nThese functions can be useful when working with multiple threads in a program.\\nFor example, you might use activeCount to check how many threads are currently running, or \\nuse enumerate to get a list of all active threads and perform some operation on each one\\n \\n '"
      ]
     },
     "execution_count": 2,
     "metadata": {},
     "output_type": "execute_result"
    }
   ],
   "source": [
    "'''2. Why threading module used? rite the use of the following functions\n",
    "( activeCount\n",
    " currentThread\n",
    " enumerate)\n",
    " \n",
    "Multithreading is used to improve the performance of applications \n",
    "by allowing them to execute multiple tasks in parallel.\n",
    "\n",
    "activeCount: This function returns the number of active threads in the current process.\n",
    "\n",
    "currentThread: This function returns a reference to the current thread object.\n",
    "\n",
    "enumerate: This function returns a list of all thread objects that are currently active.\n",
    "\n",
    "These functions can be useful when working with multiple threads in a program.\n",
    "For example, you might use activeCount to check how many threads are currently running, or \n",
    "use enumerate to get a list of all active threads and perform some operation on each one\n",
    " \n",
    " '''"
   ]
  },
  {
   "cell_type": "code",
   "execution_count": 5,
   "id": "4ad08b05-5fca-4bf5-88b0-c83948f3eda3",
   "metadata": {},
   "outputs": [
    {
     "data": {
      "text/plain": [
       "\"3. Explain the following functions\\n( run\\n start\\n join\\n' isAlive)\\nThese are methods of the threading.Thread class in Python, which is used for creating and managing threads.\\n\\nrun: This method defines the code that will be run by the thread.\\nIt's called automatically when you start a thread using the start method.\\n\\nstart: This method starts the thread running, and calls the run method to execute the code in the thread.\\nYou should always use start instead of calling run directly, because start does some additional setup \\nthat's required for the thread to work correctly.\\n\\njoin: This method waits for the thread to finish before continuing execution of the program.\\nThis is useful when you need to synchronize multiple threads \\nso that one thread doesn't finish before another one.\\n\\nisAlive: This method returns a boolean value indicating whether the thread is currently running. \\n You can use this to check the status of a thread and take some action based on whether it's still running.\""
      ]
     },
     "execution_count": 5,
     "metadata": {},
     "output_type": "execute_result"
    }
   ],
   "source": [
    "'''3. Explain the following functions\n",
    "( run\n",
    " start\n",
    " join\n",
    "' isAlive)\n",
    "These are methods of the threading.Thread class in Python, which is used for creating and managing threads.\n",
    "\n",
    "run: This method defines the code that will be run by the thread.\n",
    "It's called automatically when you start a thread using the start method.\n",
    "\n",
    "start: This method starts the thread running, and calls the run method to execute the code in the thread.\n",
    "You should always use start instead of calling run directly, because start does some additional setup \n",
    "that's required for the thread to work correctly.\n",
    "\n",
    "join: This method waits for the thread to finish before continuing execution of the program.\n",
    "This is useful when you need to synchronize multiple threads \n",
    "so that one thread doesn't finish before another one.\n",
    "\n",
    "isAlive: This method returns a boolean value indicating whether the thread is currently running. \n",
    " You can use this to check the status of a thread and take some action based on whether it's still running.'''"
   ]
  },
  {
   "cell_type": "code",
   "execution_count": 6,
   "id": "f04be4ea-b544-43cb-b2df-90b8509fcc9a",
   "metadata": {},
   "outputs": [
    {
     "name": "stdout",
     "output_type": "stream",
     "text": [
      "Square of 1 = 1\n",
      "Square of 2 = 4\n",
      "Square of 3 = 9\n",
      "Square of 4 = 16\n",
      "Square of 5 = 25\n",
      "Cube of 1 = 1\n",
      "Cube of 2 = 8\n",
      "Cube of 3 = 27\n",
      "Cube of 4 = 64\n",
      "Cube of 5 = 125\n",
      "Finished executing both threads\n"
     ]
    }
   ],
   "source": [
    "#4. write a python program to create two threads. \n",
    "#Thread one must print the list of squares and thread two must print the list of cubes\n",
    "\n",
    "import threading\n",
    "\n",
    "def print_squares():\n",
    "    for i in range(1, 6):\n",
    "        print(f\"Square of {i} = {i*i}\")\n",
    "\n",
    "def print_cubes():\n",
    "    for i in range(1, 6):\n",
    "        print(f\"Cube of {i} = {i*i*i}\")\n",
    "\n",
    "t1 = threading.Thread(target=print_squares)\n",
    "t2 = threading.Thread(target=print_cubes)\n",
    "\n",
    "t1.start()\n",
    "t2.start()\n",
    "\n",
    "t1.join()\n",
    "t2.join()\n",
    "\n",
    "print(\"Finished executing both threads\")\n"
   ]
  },
  {
   "cell_type": "code",
   "execution_count": 9,
   "id": "42e7c6e2-2afd-466d-9222-7c72dc7c7e93",
   "metadata": {},
   "outputs": [
    {
     "data": {
      "text/plain": [
       "'\\nAdvantages of multithreading:\\n\\nImproved performance: Multithreading can improve performance by\\nallowing multiple tasks to be executed concurrently on different threads.\\nResponsiveness: Multithreading allows a program to remain responsive to user input while\\nperforming long-running tasks in the background.\\nResource sharing: Multithreading can allow multiple threads to share resources such as memory,\\nfiles, and network connections.\\nModularity: Multithreading can help make code more modular and easier to maintain by allowing developers\\nto break up complex tasks into smaller, more manageable pieces that can be executed concurrently.\\n\\nDisadvantages of multithreading:\\n\\nComplexity: Multithreaded programs can be more complex to design, implement, \\nand debug than single-threaded programs.\\nSynchronization: Multithreading requires careful management of shared resources to\\navoid synchronization issues such as race conditions and deadlocks.\\nOverhead: Multithreading introduces overhead due to context switching, synchronization, and\\nother factors that can reduce performance and increase resource usage.\\nDebugging: Multithreaded programs can be more difficult to debug than single-threaded programs because of\\nthe increased complexity and potential for race conditions and deadlocks.\\n\\nIt is important to carefully consider the advantages and disadvantages of multithreading \\nbefore deciding to use it in a particular application. \\nIn some cases, multithreading can provide significant benefits in terms of performance and responsiveness,\\nbut it also introduces additional complexity and potential issues that must be carefully managed.\\n'"
      ]
     },
     "execution_count": 9,
     "metadata": {},
     "output_type": "execute_result"
    }
   ],
   "source": [
    "#5. State advantages and disadvantages of multithreading\n",
    "'''\n",
    "Advantages of multithreading:\n",
    "\n",
    "Improved performance: Multithreading can improve performance by\n",
    "allowing multiple tasks to be executed concurrently on different threads.\n",
    "Responsiveness: Multithreading allows a program to remain responsive to user input while\n",
    "performing long-running tasks in the background.\n",
    "Resource sharing: Multithreading can allow multiple threads to share resources such as memory,\n",
    "files, and network connections.\n",
    "Modularity: Multithreading can help make code more modular and easier to maintain by allowing developers\n",
    "to break up complex tasks into smaller, more manageable pieces that can be executed concurrently.\n",
    "\n",
    "Disadvantages of multithreading:\n",
    "\n",
    "Complexity: Multithreaded programs can be more complex to design, implement, \n",
    "and debug than single-threaded programs.\n",
    "Synchronization: Multithreading requires careful management of shared resources to\n",
    "avoid synchronization issues such as race conditions and deadlocks.\n",
    "Overhead: Multithreading introduces overhead due to context switching, synchronization, and\n",
    "other factors that can reduce performance and increase resource usage.\n",
    "Debugging: Multithreaded programs can be more difficult to debug than single-threaded programs because of\n",
    "the increased complexity and potential for race conditions and deadlocks.\n",
    "\n",
    "It is important to carefully consider the advantages and disadvantages of multithreading \n",
    "before deciding to use it in a particular application. \n",
    "In some cases, multithreading can provide significant benefits in terms of performance and responsiveness,\n",
    "but it also introduces additional complexity and potential issues that must be carefully managed.\n",
    "'''"
   ]
  },
  {
   "cell_type": "code",
   "execution_count": 8,
   "id": "4bad2dc4-652f-4927-8a77-33cf7af31066",
   "metadata": {},
   "outputs": [
    {
     "data": {
      "text/plain": [
       "\"\\n6. Explain deadlocks and race conditions in python.\\nDeadlock and race condition are two types of synchronization issues that can occur in multithreaded programs.\\n\\nDeadlock:\\nA deadlock occurs when two or more threads are blocked waiting for each other to release resources \\nthey need to continue. In other words, each thread is waiting for the other to release a resource it needs,\\nresulting in a circular dependency that prevents either thread from making progress. \\nDeadlocks can be difficult to diagnose and resolve because they often occur sporadically and can be\\naffected by a variety of factors.\\n\\nRace condition:\\nA race condition occurs when two or more threads access a shared resource simultaneously, \\nand the final outcome of the program depends on the order in which the threads execute. \\nIn other words, the threads are racing to access the resource, and the outcome is unpredictable because \\nit depends on the timing and order of the threads' execution.\\nRace conditions can result in data corruption, memory leaks, and other serious issues, and\\nthey can be difficult to diagnose and reproduce because they often occur intermittently and \\nare affected by a variety of factors.\\n\\n\""
      ]
     },
     "execution_count": 8,
     "metadata": {},
     "output_type": "execute_result"
    }
   ],
   "source": [
    "'''\n",
    "6. Explain deadlocks and race conditions in python.\n",
    "Deadlock and race condition are two types of synchronization issues that can occur in multithreaded programs.\n",
    "\n",
    "Deadlock:\n",
    "A deadlock occurs when two or more threads are blocked waiting for each other to release resources \n",
    "they need to continue. In other words, each thread is waiting for the other to release a resource it needs,\n",
    "resulting in a circular dependency that prevents either thread from making progress. \n",
    "Deadlocks can be difficult to diagnose and resolve because they often occur sporadically and can be\n",
    "affected by a variety of factors.\n",
    "\n",
    "Race condition:\n",
    "A race condition occurs when two or more threads access a shared resource simultaneously, \n",
    "and the final outcome of the program depends on the order in which the threads execute. \n",
    "In other words, the threads are racing to access the resource, and the outcome is unpredictable because \n",
    "it depends on the timing and order of the threads' execution.\n",
    "Race conditions can result in data corruption, memory leaks, and other serious issues, and\n",
    "they can be difficult to diagnose and reproduce because they often occur intermittently and \n",
    "are affected by a variety of factors.\n",
    "\n",
    "'''"
   ]
  },
  {
   "cell_type": "code",
   "execution_count": null,
   "id": "95e5a131-52fc-44bb-bf5a-ac9ab57fadbd",
   "metadata": {},
   "outputs": [],
   "source": []
  }
 ],
 "metadata": {
  "kernelspec": {
   "display_name": "Python 3 (ipykernel)",
   "language": "python",
   "name": "python3"
  },
  "language_info": {
   "codemirror_mode": {
    "name": "ipython",
    "version": 3
   },
   "file_extension": ".py",
   "mimetype": "text/x-python",
   "name": "python",
   "nbconvert_exporter": "python",
   "pygments_lexer": "ipython3",
   "version": "3.10.8"
  }
 },
 "nbformat": 4,
 "nbformat_minor": 5
}
