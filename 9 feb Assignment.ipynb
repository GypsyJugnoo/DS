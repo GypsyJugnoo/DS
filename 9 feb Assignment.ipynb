{
 "cells": [
  {
   "cell_type": "code",
   "execution_count": 1,
   "id": "ff00f030-89b9-4fa3-aae2-c7d3be81f974",
   "metadata": {},
   "outputs": [],
   "source": [
    "#Q1 Create a vehicle class with an init method having instance variables as\n",
    "#name_of_vehicle, max_speed and average_of_vehicle.\n",
    "\n",
    "class vehicle:\n",
    "    def __init__(self , name , max_speed , avg ) :\n",
    "        \n",
    "        self.__name = name \n",
    "        self.__max_speed = max_speed\n",
    "        self.__avg = avg\n"
   ]
  },
  {
   "cell_type": "code",
   "execution_count": 2,
   "id": "4bc84841-8e90-46ea-b9ea-fcc8ecb3d9cb",
   "metadata": {},
   "outputs": [],
   "source": [
    "'''Q2. Create a child class car from the vehicle class created in Que 1,\n",
    "which will inherit the vehicle class.\n",
    "Create a method named seating_capacity which takes capacity as an argument and returns the name of\n",
    "the vehicle and its seating capacity.'''\n",
    "class car(vehicle):\n",
    "    def __init__(self , name , max_speed , avg ) :\n",
    "        super().__init__(name , max_speed , avg )\n",
    "    def seating_capacity(self,capacity):\n",
    "        self.seating_capacity=capacity\n",
    "        return f\"{self._vehicle__name}'s seating capacity is {self.seating_capacity}\"\n",
    "\n"
   ]
  },
  {
   "cell_type": "code",
   "execution_count": 3,
   "id": "1f396385-df27-44f1-92c8-02bcfdaecc0b",
   "metadata": {},
   "outputs": [],
   "source": [
    "tiago =car('tiago hatch back',150,20)"
   ]
  },
  {
   "cell_type": "code",
   "execution_count": 4,
   "id": "fbd1b2e5-5909-4324-9d61-94da13e66bd0",
   "metadata": {},
   "outputs": [
    {
     "name": "stdout",
     "output_type": "stream",
     "text": [
      "tiago hatch back\n"
     ]
    }
   ],
   "source": [
    "print(tiago._vehicle__name)"
   ]
  },
  {
   "cell_type": "code",
   "execution_count": 5,
   "id": "119afa17-c4c5-446e-b8f9-70c037c230a3",
   "metadata": {},
   "outputs": [
    {
     "data": {
      "text/plain": [
       "<bound method car.seating_capacity of <__main__.car object at 0x7fb758f17190>>"
      ]
     },
     "execution_count": 5,
     "metadata": {},
     "output_type": "execute_result"
    }
   ],
   "source": [
    "tiago.seating_capacity"
   ]
  },
  {
   "cell_type": "code",
   "execution_count": 6,
   "id": "ab76d69c-6673-4b38-9ab8-8977f6ba0fb5",
   "metadata": {},
   "outputs": [
    {
     "data": {
      "text/plain": [
       "\"tiago hatch back's seating capacity is 5\""
      ]
     },
     "execution_count": 6,
     "metadata": {},
     "output_type": "execute_result"
    }
   ],
   "source": [
    "tiago.seating_capacity(5)"
   ]
  },
  {
   "cell_type": "code",
   "execution_count": 7,
   "id": "9672ae0d-b9f3-475c-bd67-6a8865dfbf7c",
   "metadata": {},
   "outputs": [
    {
     "data": {
      "text/plain": [
       "5"
      ]
     },
     "execution_count": 7,
     "metadata": {},
     "output_type": "execute_result"
    }
   ],
   "source": [
    "tiago.seating_capacity"
   ]
  },
  {
   "cell_type": "code",
   "execution_count": 8,
   "id": "69b5b0b5-879b-4f15-843b-ca82ab6128d2",
   "metadata": {},
   "outputs": [],
   "source": [
    "tiago.seating_capacity=10"
   ]
  },
  {
   "cell_type": "code",
   "execution_count": 9,
   "id": "f1d507b4-5dee-43ab-ade9-68d8dbf63c57",
   "metadata": {},
   "outputs": [
    {
     "data": {
      "text/plain": [
       "10"
      ]
     },
     "execution_count": 9,
     "metadata": {},
     "output_type": "execute_result"
    }
   ],
   "source": [
    "tiago.seating_capacity"
   ]
  },
  {
   "cell_type": "code",
   "execution_count": 10,
   "id": "39ee835b-2fe7-4856-8a1d-49fcc0d63883",
   "metadata": {},
   "outputs": [],
   "source": [
    "#Q3. What is multiple inheritance? Write a python code to demonstrate multiple inheritance.\n",
    "'''Multiple inheritance is a feature in object-oriented programming\n",
    "where a subclass can inherit attributes and methods from more than one parent class.\n",
    "This allows the subclass to combine and reuse functionality from multiple sources.'''\n",
    "class Animal:\n",
    "    def __init__(self , name):\n",
    "        self.name=name\n",
    "\n",
    "class AquaticAnimal(Animal):    \n",
    "    def swim(self):\n",
    "        print(f'{self.name} can swim') \n",
    "\n",
    "class Bird(Animal):\n",
    "    def fly(self):\n",
    "        print(f'{self.name} can fly')        \n",
    "       \n",
    "class AquaticBird(AquaticAnimal,Bird):#Multiple inheritance and Multi level inheritance\n",
    "    pass\n",
    "    "
   ]
  },
  {
   "cell_type": "code",
   "execution_count": 11,
   "id": "73d1b317-8d9d-4577-9a03-fd713a464ab3",
   "metadata": {},
   "outputs": [
    {
     "name": "stdout",
     "output_type": "stream",
     "text": [
      "swan001\n",
      "swan001 can swim\n",
      "None\n",
      "swan001 can fly\n",
      "None\n"
     ]
    },
    {
     "data": {
      "text/plain": [
       "<bound method Bird.fly of <__main__.AquaticBird object at 0x7fb758f16dd0>>"
      ]
     },
     "execution_count": 11,
     "metadata": {},
     "output_type": "execute_result"
    }
   ],
   "source": [
    "swan =AquaticBird('swan001')\n",
    "print(swan.name)\n",
    "print(swan.swim())\n",
    "print(swan.fly())\n",
    "swan.fly"
   ]
  },
  {
   "cell_type": "code",
   "execution_count": 12,
   "id": "1633ed6f-0842-43ab-8f94-3a97d2098b3c",
   "metadata": {},
   "outputs": [
    {
     "name": "stdout",
     "output_type": "stream",
     "text": [
      "John\n",
      "Mary\n"
     ]
    }
   ],
   "source": [
    "#Q4. What are getter and setter in python? \n",
    "#Create a class and create a getter and a setter method in this class.\n",
    "\n",
    "'''Getter and Setter are methods used in object-oriented programming\n",
    "to get and set the values of object attributes respectively. In Python, \n",
    "we can define getters and setters as regular methods in a class.'''\n",
    "\n",
    "class Person:\n",
    "    def __init__(self, name, age):\n",
    "        self._name = name\n",
    "        self._age = age\n",
    "\n",
    "    # Getter method for the name attribute\n",
    "    def get_name(self):\n",
    "        return self._name\n",
    "\n",
    "    # Setter method for the name attribute\n",
    "    def set_name(self, name):\n",
    "        self._name = name\n",
    "\n",
    "# Create an instance of the Person class\n",
    "p = Person(\"John\", 30)\n",
    "\n",
    "# Use the getter methods to get the values of the attributes\n",
    "print(p.get_name())\n",
    "\n",
    "\n",
    "# Use the setter methods to set the values of the attributes\n",
    "p.set_name(\"Mary\")\n",
    "\n",
    "\n",
    "# Use the getter methods again to get the updated values of the attributes\n",
    "print(p.get_name())\n"
   ]
  },
  {
   "cell_type": "code",
   "execution_count": 14,
   "id": "5e0d7619-e107-4d81-81c0-ed71a64a6398",
   "metadata": {},
   "outputs": [
    {
     "name": "stdout",
     "output_type": "stream",
     "text": [
      "30\n"
     ]
    }
   ],
   "source": [
    "print(p._age)"
   ]
  },
  {
   "cell_type": "code",
   "execution_count": 15,
   "id": "f82f980e-a392-42b6-a9f6-f49ae8200121",
   "metadata": {},
   "outputs": [],
   "source": [
    "p._age=25"
   ]
  },
  {
   "cell_type": "code",
   "execution_count": 16,
   "id": "9d98d112-10c1-4f9c-a5cd-d1cb1c0a938f",
   "metadata": {},
   "outputs": [
    {
     "name": "stdout",
     "output_type": "stream",
     "text": [
      "25\n"
     ]
    }
   ],
   "source": [
    "print(p._age)\n"
   ]
  },
  {
   "cell_type": "code",
   "execution_count": 17,
   "id": "d2cacfca-33b4-47e0-9b62-6cedb11a26c2",
   "metadata": {},
   "outputs": [
    {
     "name": "stdout",
     "output_type": "stream",
     "text": [
      "The animal makes a sound\n",
      "The dog barks\n",
      "The cat meows\n"
     ]
    }
   ],
   "source": [
    "#Q5.What is method overriding in python? Write a python code to demonstrate method overriding.\n",
    "\n",
    "'''\n",
    "Method overriding is a feature of object-oriented programming where \n",
    "a subclass provides its own implementation of a method that is already defined in its superclass.\n",
    "The method in the subclass has the same name, same parameters, and same return type as the method in the\n",
    "superclass.'''\n",
    "\n",
    "class Animal:\n",
    "    def make_sound(self):\n",
    "        print(\"The animal makes a sound\")\n",
    "\n",
    "class Dog(Animal):\n",
    "    def make_sound(self):\n",
    "        print(\"The dog barks\")\n",
    "\n",
    "class Cat(Animal):\n",
    "    def make_sound(self):\n",
    "        print(\"The cat meows\")\n",
    "\n",
    "# Create instances of the classes\n",
    "animal = Animal()\n",
    "dog = Dog()\n",
    "cat = Cat()\n",
    "\n",
    "# Call the make_sound method on each instance\n",
    "animal.make_sound() # The animal makes a sound\n",
    "dog.make_sound()    # The dog barks\n",
    "cat.make_sound()    # The cat meows\n"
   ]
  },
  {
   "cell_type": "code",
   "execution_count": null,
   "id": "06247a34-3af5-4643-a5d1-e99af43a37cf",
   "metadata": {},
   "outputs": [],
   "source": []
  }
 ],
 "metadata": {
  "kernelspec": {
   "display_name": "Python 3 (ipykernel)",
   "language": "python",
   "name": "python3"
  },
  "language_info": {
   "codemirror_mode": {
    "name": "ipython",
    "version": 3
   },
   "file_extension": ".py",
   "mimetype": "text/x-python",
   "name": "python",
   "nbconvert_exporter": "python",
   "pygments_lexer": "ipython3",
   "version": "3.10.8"
  }
 },
 "nbformat": 4,
 "nbformat_minor": 5
}
