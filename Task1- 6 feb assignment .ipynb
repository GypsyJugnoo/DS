{
 "cells": [
  {
   "cell_type": "markdown",
   "id": "206829f3-8d6f-4c1e-ae61-a293f4b7b93a",
   "metadata": {},
   "source": [
    "Q1. Create a function which will take a list as an argument and return the product of all the numbers\n",
    "after creating a flat list.\n",
    "Use the below-given list as an argument for your function.\n",
    "list1 = [1,2,3,4, [44,55,66, True], False, (34,56,78,89,34), {1,2,3,3,2,1}, {1:34, \"key2\": [55, 67, 78, 89], 4: (45,\n",
    "22, 61, 34)}, [56, 'data science'], 'Machine Learning']\n",
    "Note: you must extract numeric keys and values of the dictionary also."
   ]
  },
  {
   "cell_type": "code",
   "execution_count": 46,
   "id": "63fe9a29-132a-4d6c-93c7-1550234cc08e",
   "metadata": {},
   "outputs": [
    {
     "name": "stdout",
     "output_type": "stream",
     "text": [
      "The product of all the numbers in the flat list is: 4134711838987085478833841242112000\n",
      "[1, 2, 3, 4, [44, 55, 66, True], False, (34, 56, 78, 89, 34), {1, 2, 3}, {1: 34, 'key2': [55, 67, 78, 89], 4: (45, 22, 61, 34)}, [56, 'data science'], 'Machine Learning']\n",
      "[1, 2, 3, 4, 44, 55, 66, True, False, 34, 56, 78, 89, 34, 1, 2, 3, 1, 34, 55, 67, 78, 89, 4, 45, 22, 61, 34, 56]\n",
      "[]\n"
     ]
    }
   ],
   "source": [
    "def number(lst):\n",
    "    flat_list = []\n",
    "    for item in lst:\n",
    "        if isinstance(item, (int, float)):\n",
    "            flat_list.append(item)\n",
    "        elif isinstance(item, (list, tuple, set)):\n",
    "            flat_list.extend(product_of_numbers(item))\n",
    "        elif isinstance(item, dict):\n",
    "            for key, value in item.items():\n",
    "                if isinstance(key, (int, float)):\n",
    "                    flat_list.append(key)\n",
    "                if isinstance(value, (int, float)):\n",
    "                    flat_list.append(value)\n",
    "                elif isinstance(value, (list, tuple, set, dict)):\n",
    "                    flat_list.extend(product_of_numbers(value))\n",
    "    return flat_list   \n",
    "\n",
    "def product(flat_list):\n",
    "    flat_list1=[]\n",
    "    for item in flat_list:\n",
    "        if type(item) == bool:\n",
    "            pass\n",
    "        else: \n",
    "            flat_list1.append(item)\n",
    "   \n",
    "    product = 1\n",
    "    for num in flat_list1:\n",
    "           product *= num\n",
    "    return product\n",
    "\n",
    "list1 = [1,2,3,4, [44,55,66, True], False, (34,56,78,89,34), {1,2,3,3,2,1}, {1:34, \"key2\": [55, 67, 78, 89], 4: (45, 22, 61, 34)}, [56, 'data science'], 'Machine Learning']\n",
    "\n",
    "flat_list=number(list1)\n",
    "\n",
    "result = product(flat_list)\n",
    "print(\"The product of all the numbers in the flat list is:\", result)\n",
    "print(list1)\n",
    "print(flat_list)\n",
    "print(flat_list1)\n"
   ]
  },
  {
   "cell_type": "markdown",
   "id": "f14161dc-3527-4413-a4c2-b0923a9d3520",
   "metadata": {},
   "source": [
    "Q2. Write a python program for encrypting a message sent to you by your friend. The logic of encryption\n",
    "should be such that, for a the output should be z. For b, the output should be y. For c, the output should\n",
    "be x respectively. Also, the whitespace should be replaced with a dollar sign. Keep the punctuation\n",
    "marks unchanged.\n",
    "Input Sentence: I want to become a Data Scientist.\n",
    "Encrypt the above input sentence using the program you just created.\n",
    "Note: Convert the given input sentence into lowercase before encrypting. The final output should be\n",
    "lowercase."
   ]
  },
  {
   "cell_type": "code",
   "execution_count": 2,
   "id": "2b147f4d-3069-405e-a83d-b56b1bdea6eb",
   "metadata": {},
   "outputs": [],
   "source": [
    "\n",
    "#ALPHABET= 'ABCDEFGHIJKLMNOPQRSTUVWXYZ'\n",
    "#alphabet=ALPHABET.lower()\n",
    "Input_Sentence= 'I want to become a Data Scientist.'\n",
    "def encoding(Input_Sentence):\n",
    "    Input_Sentence= Input_Sentence.lower()\n",
    "    alphabet= 'abcdefghijklmnopqrstuvwxyz'\n",
    "    \n",
    "    Input_list=[]\n",
    "    output_list=[]\n",
    "    output_list2=[]\n",
    "    output_Sentence=''\n",
    "    for element in Input_Sentence:\n",
    "        Input_list.append(element)\n",
    "    print(Input_list)\n",
    "    \n",
    "    for element in Input_list:\n",
    "        if element.isalpha():\n",
    "            ind=alphabet.find(element)\n",
    "            opp=alphabet[-(ind+1)]\n",
    "            output_list.append(opp)\n",
    "        elif element==' ':\n",
    "            output_list.append('?')\n",
    "        else:\n",
    "            output_list.append(element)\n",
    "    for element in output_list:\n",
    "        output_Sentence+=(element)\n",
    "        #output_list2=[lambda x,y:x+y,output_list]\n",
    "    return output_Sentence\n"
   ]
  },
  {
   "cell_type": "code",
   "execution_count": 3,
   "id": "35cbaab2-6384-4a6c-bfc8-b54afceac8fb",
   "metadata": {},
   "outputs": [
    {
     "name": "stdout",
     "output_type": "stream",
     "text": [
      "['i', ' ', 'w', 'a', 'n', 't', ' ', 't', 'o', ' ', 'b', 'e', 'c', 'o', 'm', 'e', ' ', 'a', ' ', 'd', 'a', 't', 'a', ' ', 's', 'c', 'i', 'e', 'n', 't', 'i', 's', 't', '.']\n",
      "r?dzmg?gl?yvxlnv?z?wzgz?hxrvmgrhg.\n"
     ]
    }
   ],
   "source": [
    "Input_Sentence= 'I want to become a Data Scientist.'\n",
    "print(encoding(Input_Sentence))"
   ]
  },
  {
   "cell_type": "code",
   "execution_count": 4,
   "id": "8bb9eb54-645a-4d57-96e4-b27dd87634d3",
   "metadata": {},
   "outputs": [
    {
     "name": "stdout",
     "output_type": "stream",
     "text": [
      "['r', '?', 'd', 'z', 'm', 'g', '?', 'g', 'l', '?', 'y', 'v', 'x', 'l', 'n', 'v', '?', 'z', '?', 'w', 'z', 'g', 'z', '?', 'h', 'x', 'r', 'v', 'm', 'g', 'r', 'h', 'g', '.']\n",
      "i want to become a data scientist.\n"
     ]
    }
   ],
   "source": [
    "output_Sentence='r?dzmg?gl?yvxlnv?z?wzgz?hxrvmgrhg.'\n",
    "print((encoding(output_Sentence).replace('?',' ')))"
   ]
  },
  {
   "cell_type": "code",
   "execution_count": 5,
   "id": "7d36d0e7-c68b-4742-8522-b360ea37a0ba",
   "metadata": {},
   "outputs": [],
   "source": [
    "def decoding(Input_Sentence):\n",
    "    Input_Sentence= Input_Sentence.lower()\n",
    "    alphabet= 'abcdefghijklmnopqrstuvwxyz'\n",
    "    \n",
    "    Input_list=[]\n",
    "    output_list=[]\n",
    "    output_list2=[]\n",
    "    output_Sentence=''\n",
    "    for element in Input_Sentence:\n",
    "        Input_list.append(element)\n",
    "    #print(Input_list)\n",
    "    \n",
    "    for element in Input_list:\n",
    "        if element.isalpha():\n",
    "            ind=alphabet.find(element)\n",
    "            opp=alphabet[-(ind+1)]\n",
    "            output_list.append(opp)\n",
    "        elif element=='?':\n",
    "            output_list.append(' ')\n",
    "        else:\n",
    "            output_list.append(element)\n",
    "    #print(output_list)        \n",
    "    for element in output_list:\n",
    "        output_Sentence+=(element)\n",
    "    \n",
    "    return output_Sentence"
   ]
  },
  {
   "cell_type": "code",
   "execution_count": 6,
   "id": "0f2df711-b8aa-40c2-a2c8-6eeb23197ed4",
   "metadata": {},
   "outputs": [
    {
     "name": "stdout",
     "output_type": "stream",
     "text": [
      "i want to become a data scientist.\n"
     ]
    }
   ],
   "source": [
    "print(decoding(output_Sentence))"
   ]
  }
 ],
 "metadata": {
  "kernelspec": {
   "display_name": "Python 3 (ipykernel)",
   "language": "python",
   "name": "python3"
  },
  "language_info": {
   "codemirror_mode": {
    "name": "ipython",
    "version": 3
   },
   "file_extension": ".py",
   "mimetype": "text/x-python",
   "name": "python",
   "nbconvert_exporter": "python",
   "pygments_lexer": "ipython3",
   "version": "3.10.8"
  }
 },
 "nbformat": 4,
 "nbformat_minor": 5
}
