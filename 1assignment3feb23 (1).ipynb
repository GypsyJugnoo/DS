{
 "cells": [
  {
   "cell_type": "markdown",
   "id": "889248a3-e9d1-48c9-a8e2-2a01a0006b70",
   "metadata": {},
   "source": [
    "Q1. What are the characteristics of the tuples? Is tuple immutable?\n",
    "Q2. What are the two tuple methods in python? Give an example of each method. Give a reason why\n",
    "tuples have only two in-built methods as compared to Lists.\n",
    "Q3. Which collection datatypes in python do not allow duplicate items? Write a code using a set to remove\n",
    "duplicates from the given list.\n",
    "List = [1, 1, 1, 2, 1, 3, 1, 4, 2, 1, 2, 2, 2, 3, 2, 4, 3, 1, 3, 2, 3, 3, 3, 4, 4, 1, 4, 2, 4, 3, 4, 4]\n",
    "Q4. Explain the difference between the union() and update() methods for a set. Give an example of\n",
    "each method.\n",
    "Q5. What is a dictionary? Give an example. Also, state whether a dictionary is ordered or unordered.\n",
    "Q6. Can we create a nested dictionary? If so, please give an example by creating a simple one-level\n",
    "nested dictionary.\n",
    "Q7. Using setdefault() method, create key named topics in the given dictionary and also add the value of\n",
    "the key as this list ['Python', 'Machine Learning’, 'Deep Learning']\n",
    "dict1 = {'language' : 'Python', 'course': 'Data Science Masters'}\n",
    "Q8. What are the three view objects in dictionaries? Use the three in-built methods in python to display\n",
    "these three view objects for the given dictionary.\n",
    "dict1 = {'Sport': 'Cricket' , 'Teams': ['India', 'Australia', 'England', 'South Africa', 'Sri Lanka', 'New Zealand']}"
   ]
  },
  {
   "cell_type": "code",
   "execution_count": 1,
   "id": "1a993878-9bf8-4958-8c58-faf2b58cb47c",
   "metadata": {},
   "outputs": [],
   "source": [
    "#Q1. What are the characteristics of the tuples? indexed (ordered),immutable(unchangeable), and allow duplicate values\n",
    "#Is tuple immutable? no"
   ]
  },
  {
   "cell_type": "code",
   "execution_count": 2,
   "id": "9be861aa-a6c3-45ba-879d-2de3d50291da",
   "metadata": {},
   "outputs": [
    {
     "name": "stdout",
     "output_type": "stream",
     "text": [
      "(1, 2, 2, 2, 2, 2, 3, 'x', 'y', 'z')\n",
      "<class 'tuple'>\n",
      "5\n",
      "1\n"
     ]
    }
   ],
   "source": [
    "#Q2. What are the two tuple methods in python? Give an example of each method. \n",
    "#count() and index() \n",
    "t=(1,2,2,2,2,2,3,'x','y','z')\n",
    "print(t)\n",
    "print(type(t))\n",
    "print(t.count(2))\n",
    "print(t.index(2))\n",
    "#Give a reason whytuples have only two in-built methods as compared to Lists.\n",
    "#tuples are immutables. Meaning, you cannot change items of a tuple once it is assigned.but Lists are mutables.\n",
    " "
   ]
  },
  {
   "cell_type": "code",
   "execution_count": 3,
   "id": "af628082-9a24-4b28-b83c-96f2afa66ce6",
   "metadata": {},
   "outputs": [
    {
     "data": {
      "text/plain": [
       "{1, 2, 3, 4}"
      ]
     },
     "execution_count": 3,
     "metadata": {},
     "output_type": "execute_result"
    }
   ],
   "source": [
    "#Q3. Which collection datatypes in python do not allow duplicate items? SET\n",
    "\n",
    "#Write a code using a set to remove duplicates from the given list.\n",
    "List1 = [1, 1, 1, 2, 1, 3, 1, 4, 2, 1, 2, 2, 2, 3, 2, 4, 3, 1, 3, 2, 3, 3, 3, 4, 4, 1, 4, 2, 4, 3, 4, 4]\n",
    "set1= set(List1)\n",
    "set1"
   ]
  },
  {
   "cell_type": "code",
   "execution_count": 4,
   "id": "9aab1ece-dbd6-4bff-9da7-2ae52a04555c",
   "metadata": {},
   "outputs": [
    {
     "name": "stdout",
     "output_type": "stream",
     "text": [
      "140191431063840\n",
      "140191431063392\n",
      "{1, 2, 3, 4, 'a', 'b', 'c'}\n",
      "140191431064960\n",
      "{1, 2, 3, 4, 'a', 'b', 'c'}\n",
      "140191431063840\n",
      "{1, 2, 3, 'a', 4, 'b', 'c'}\n",
      "140191431063392\n"
     ]
    }
   ],
   "source": [
    "#4. Explain the difference between the union() and update() methods for a set. \n",
    "#Give an example ofeach method.\n",
    "#update() adds all missing elements to the set on which it is called whereas set. union() creates a new set. \n",
    "s1={1, 2, 3, 4}\n",
    "s2={'a','b','c',3,4}\n",
    "print(id(s1))\n",
    "print(id(s2))\n",
    "\n",
    "print(s1 | s2)\n",
    "print(id(s1 | s2)) #new id\n",
    "\n",
    "s1.update(s2) #update in original set, so same id of s1\n",
    "print(s1)\n",
    "print(id(s1))\n",
    "\n",
    "s2.update(s1) #update in original set, so same id of s2\n",
    "print(s2)\n",
    "print(id(s2))\n"
   ]
  },
  {
   "cell_type": "code",
   "execution_count": 5,
   "id": "4d740872-486c-4c0c-b6d3-e99bb52d4c47",
   "metadata": {},
   "outputs": [
    {
     "name": "stdout",
     "output_type": "stream",
     "text": [
      "<class 'dict'>\n",
      "{'key': 'value', 1: 'one', 'two': 2}\n",
      "10 <class 'int'>\n",
      "45.45 <class 'float'>\n",
      "(30+50j) <class 'complex'>\n",
      "hi <class 'str'>\n",
      "True <class 'bool'>\n",
      "('a', 0) <class 'tuple'>\n"
     ]
    }
   ],
   "source": [
    "#Q5. What is a dictionary? Give an example. Also, state whether a dictionary is ordered or unordered.\n",
    "d={}\n",
    "print(type(d))\n",
    "d={'key':'value',1:'one','two':2}\n",
    "print(d)\n",
    "d1={10:1, 45.45:2, 30+50j:3, \"hi\":4, True:5, ('a',0):6}\n",
    "for i in d1: #keys\n",
    "    print(i ,type(i))\n",
    "    \n"
   ]
  },
  {
   "cell_type": "code",
   "execution_count": 6,
   "id": "f938d022-6f09-4beb-9fe9-197d99fbed68",
   "metadata": {},
   "outputs": [
    {
     "ename": "KeyError",
     "evalue": "0",
     "output_type": "error",
     "traceback": [
      "\u001b[0;31m---------------------------------------------------------------------------\u001b[0m",
      "\u001b[0;31mKeyError\u001b[0m                                  Traceback (most recent call last)",
      "Cell \u001b[0;32mIn[6], line 2\u001b[0m\n\u001b[1;32m      1\u001b[0m d\u001b[38;5;241m=\u001b[39m{\u001b[38;5;124m'\u001b[39m\u001b[38;5;124mkey\u001b[39m\u001b[38;5;124m'\u001b[39m:\u001b[38;5;124m'\u001b[39m\u001b[38;5;124mvalue\u001b[39m\u001b[38;5;124m'\u001b[39m,\u001b[38;5;241m1\u001b[39m:\u001b[38;5;124m'\u001b[39m\u001b[38;5;124mone\u001b[39m\u001b[38;5;124m'\u001b[39m,\u001b[38;5;124m'\u001b[39m\u001b[38;5;124mtwo\u001b[39m\u001b[38;5;124m'\u001b[39m:\u001b[38;5;241m2\u001b[39m}\n\u001b[0;32m----> 2\u001b[0m \u001b[43md\u001b[49m\u001b[43m[\u001b[49m\u001b[38;5;241;43m0\u001b[39;49m\u001b[43m]\u001b[49m    \n\u001b[1;32m      3\u001b[0m \u001b[38;5;124;03m'''a dictionary is unordered. '''\u001b[39;00m   \n",
      "\u001b[0;31mKeyError\u001b[0m: 0"
     ]
    }
   ],
   "source": [
    "d={'key':'value',1:'one','two':2}\n",
    "d[0]    \n",
    "'''a dictionary is unordered. '''   "
   ]
  },
  {
   "cell_type": "code",
   "execution_count": 7,
   "id": "34851411-c53a-4457-acdd-badb728b844b",
   "metadata": {},
   "outputs": [
    {
     "data": {
      "text/plain": [
       "{1: {10: 1, 45.45: 2, (30+50j): 3, 'hi': 4, True: 5, ('a', 0): 6},\n",
       " 0: {'key': 'value', 1: 'one', 'two': 2}}"
      ]
     },
     "execution_count": 7,
     "metadata": {},
     "output_type": "execute_result"
    }
   ],
   "source": [
    "#Q6. Can we create a nested dictionary? yes\n",
    "#If so, please give an example by creating a simple one-level nested dictionary.\n",
    "\n",
    "d={'key':'value',1:'one','two':2}\n",
    "d1={10:1, 45.45:2, 30+50j:3, \"hi\":4, True:5, ('a',0):6}\n",
    "d2={1:d1,0:d}\n",
    "d2"
   ]
  },
  {
   "cell_type": "raw",
   "id": "94c6ebc8-7270-4908-9244-d8025f4a229e",
   "metadata": {},
   "source": [
    "Python Dictionary setdefault() returns the value of a key (if the key is in dictionary). Else, it inserts a key with the default value to the dictionary.\n",
    "\n",
    "Python Dictionary setdefault() Method Syntax:\n",
    "Syntax: dict.setdefault(key, default_value)\n",
    "Parameters: It takes two parameters: \n",
    "\n",
    "key – Key to be searched in the dictionary. \n",
    "default_value (optional) – Key with a value default_value is inserted to the dictionary if key is not in the dictionary. If not provided, the default_value will be None.\n",
    "Returns: \n",
    "\n",
    "Value of the key if it is in the dictionary. \n",
    "None if key is not in the dictionary and default_value is not specified. \n",
    "default_value if key is not in the dictionary and default_value is specified."
   ]
  },
  {
   "cell_type": "code",
   "execution_count": 8,
   "id": "cb59118e-4e29-4d1e-ae7c-220890ecfe3e",
   "metadata": {},
   "outputs": [
    {
     "name": "stdout",
     "output_type": "stream",
     "text": [
      "Data Science Masters\n",
      "None\n",
      "['Machine Learning', 'Deep Learning']\n",
      "{'language': 'Python', 'course': 'Data Science Masters', 'teacher': None, 'topics': ['Machine Learning', 'Deep Learning']}\n"
     ]
    }
   ],
   "source": [
    "#Q7. Using setdefault() method, create key named topics in the given dictionary \n",
    "#and also add the value of the key as this list\n",
    "l1=['Python', 'Machine Learning', 'Deep Learning']\n",
    "d1 = {'language' : 'Python', 'course': 'Data Science Masters'}\n",
    "\n",
    "print(d1.setdefault('course'))\n",
    "\n",
    "print(d1.setdefault('teacher'))\n",
    "\n",
    "print(d1.setdefault('topics',['Machine Learning', 'Deep Learning']))\n",
    "\n",
    "print(d1)"
   ]
  },
  {
   "cell_type": "code",
   "execution_count": 9,
   "id": "84261c3d-ea15-4ced-8b81-6ff895eaf74c",
   "metadata": {},
   "outputs": [
    {
     "name": "stdout",
     "output_type": "stream",
     "text": [
      "dict_keys(['Sport', 'Teams'])\n",
      "dict_values(['Cricket', ['India', 'Australia', 'England', 'South Africa', 'Sri Lanka', 'New Zealand']])\n",
      "dict_items([('Sport', 'Cricket'), ('Teams', ['India', 'Australia', 'England', 'South Africa', 'Sri Lanka', 'New Zealand'])])\n"
     ]
    }
   ],
   "source": [
    "#Q8. What are the three view objects in dictionaries? \n",
    "#Use the three in-built methods in python to display these three view objects for the given dictionary.\n",
    "dict1 = {'Sport': 'Cricket' , 'Teams': ['India', 'Australia', 'England', 'South Africa', 'Sri Lanka', 'New Zealand']}\n",
    "print(dict1.keys())\n",
    "print(dict1.values())\n",
    "print(dict1.items())"
   ]
  },
  {
   "cell_type": "code",
   "execution_count": null,
   "id": "792ad041-2405-4878-b544-3ce7414688c4",
   "metadata": {},
   "outputs": [],
   "source": []
  }
 ],
 "metadata": {
  "kernelspec": {
   "display_name": "Python 3 (ipykernel)",
   "language": "python",
   "name": "python3"
  },
  "language_info": {
   "codemirror_mode": {
    "name": "ipython",
    "version": 3
   },
   "file_extension": ".py",
   "mimetype": "text/x-python",
   "name": "python",
   "nbconvert_exporter": "python",
   "pygments_lexer": "ipython3",
   "version": "3.10.8"
  }
 },
 "nbformat": 4,
 "nbformat_minor": 5
}
