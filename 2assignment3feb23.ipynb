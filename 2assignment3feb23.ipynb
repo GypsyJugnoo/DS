{
 "cells": [
  {
   "cell_type": "markdown",
   "id": "15c536c6-dbc8-4f7b-a759-ef9413fee16c",
   "metadata": {},
   "source": [
    "Q1. Which keyword is used to create a function? Create a function to return a list of odd numbers in the\n",
    "range of 1 to 25.\n",
    "Q2. Why *args and **kwargs is used in some functions? Create a function each for *args and **kwargs to\n",
    "demonstrate their use.\n",
    "Q3. What is an iterator in python? Name the method used to initialise the iterator object and the method\n",
    "used for iteration. Use these methods to print the first five elements of the given list [2, 4, 6, 8, 10, 12, 14, 16,\n",
    "18, 20].\n",
    "Q4. What is a generator function in python? Why yield keyword is used? Give an example of a generator\n",
    "function.\n",
    "Q5. Create a generator function for prime numbers less than 1000. Use the next() method to print the\n",
    "first 20 prime numbers."
   ]
  },
  {
   "cell_type": "code",
   "execution_count": 7,
   "id": "4dfd17a6-fa1a-48b7-ae18-fbdda7a5d941",
   "metadata": {},
   "outputs": [
    {
     "data": {
      "text/plain": [
       "[1, 3, 5, 7, 9, 11, 13, 15, 17, 19, 21, 23]"
      ]
     },
     "execution_count": 7,
     "metadata": {},
     "output_type": "execute_result"
    }
   ],
   "source": [
    "#Q1. Which keyword is used to create a function? \n",
    "def fun():\n",
    "    pass\n",
    "#Create a function to return a list of odd numbers in therange of 1 to 25.\n",
    "def odd(n):\n",
    "    o=[]\n",
    "    for i in range(1,n):\n",
    "        if i%2 !=0:\n",
    "            o.append(i)\n",
    "    return o \n",
    "odd(25)    "
   ]
  },
  {
   "cell_type": "code",
   "execution_count": 74,
   "id": "1f8fb8d3-d82d-4312-bdee-a48fd7e257d0",
   "metadata": {},
   "outputs": [
    {
     "name": "stdout",
     "output_type": "stream",
     "text": [
      "(3, 6, 9)\n",
      "('a2', 200)\n"
     ]
    }
   ],
   "source": [
    "#Q2. Why *args and **kwargs is used in some functions? \n",
    "#We use *args and **kwargs as an argument when we are unsure about the number of arguments to pass in the functions.\n",
    "\n",
    "#Create a function each for *args and **kwargs to demonstrate their use.\n",
    "def f1(*args):#unlimited arguments by *\n",
    "        return args\n",
    "print(f1(3,6,9)) \n",
    "\n",
    "def test6(**kwargs):\n",
    "    for i in kwargs.keys():\n",
    "        if (kwargs[i] ) >=150:\n",
    "            return i , kwargs[i]\n",
    "print(test6(a1=100,a2=200,a3=300))     "
   ]
  },
  {
   "cell_type": "code",
   "execution_count": 78,
   "id": "670bf613-b150-4c37-bfd9-c0e35ad9bf02",
   "metadata": {},
   "outputs": [
    {
     "name": "stdout",
     "output_type": "stream",
     "text": [
      "2\n",
      "4\n",
      "6\n",
      "8\n",
      "10\n"
     ]
    }
   ],
   "source": [
    "#Q3. What is an iterator in python? \n",
    "'''Iterators in Python allow for efficient access to elements in a sequence one at a time. \n",
    "This allows for the creation of efficient and memory-saving loops that can process large amounts of data. \n",
    "Examples of sequences in Python include lists, tuples, and dictionaries.\n",
    "'''\n",
    "#Name the method used to initialise the iterator object and the method used for iteration.\n",
    "#We can use a for loop to iterate through an iterable object\n",
    "\n",
    "#Use these methods to print the first five elements of the given list [2, 4, 6, 8, 10, 12, 14, 16, 18, 20].\n",
    "list1= [2, 4, 6, 8, 10, 12, 14, 16, 18, 20]\n",
    "n=0\n",
    "for i in list1:\n",
    "    print(i)\n",
    "    n=n+1\n",
    "    if n==5:\n",
    "        break\n",
    "    "
   ]
  },
  {
   "cell_type": "code",
   "execution_count": null,
   "id": "e8d1d576-fc09-460c-a0ba-9074264f36de",
   "metadata": {},
   "outputs": [],
   "source": [
    "#Q4. What is a generator function in python? \n",
    "'''In Python, a generator is a function that returns an iterator that produces\n",
    "a sequence of values when iterated over.\n",
    "Generators are useful when we want to produce a large sequence of values, \n",
    "but we don't want to store all of them in memory at once.'''\n",
    "\n",
    "#Why yield keyword is used? \n",
    "#when we want to iterate over a sequence, but don't want to store the entire sequence in memory.\n",
    "\n",
    "#Give an example of a generator function.\n",
    "def (n) :\n",
    "    a,b = 0,1\n",
    "    for i in range(n):\n",
    "        yield a \n",
    "        a,b = b ,a+b \n"
   ]
  }
 ],
 "metadata": {
  "kernelspec": {
   "display_name": "Python 3 (ipykernel)",
   "language": "python",
   "name": "python3"
  },
  "language_info": {
   "codemirror_mode": {
    "name": "ipython",
    "version": 3
   },
   "file_extension": ".py",
   "mimetype": "text/x-python",
   "name": "python",
   "nbconvert_exporter": "python",
   "pygments_lexer": "ipython3",
   "version": "3.10.8"
  }
 },
 "nbformat": 4,
 "nbformat_minor": 5
}
