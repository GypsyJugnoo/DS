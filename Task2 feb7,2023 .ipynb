{
 "cells": [
  {
   "cell_type": "markdown",
   "id": "f1730f54-d1e0-425a-b009-138c705e955d",
   "metadata": {},
   "source": [
    "Q1. You are writing code for a company. \n",
    "The requirement of the company is that you create a python\n",
    "function that will check whether the password entered by the user is correct or not. The function should take the password as input and return the string “Valid Password” if the entered password follows the\n",
    "below-given password guidelines else it should return “Invalid Password”.\n",
    "Note:\n",
    "1. The Password should contain at least two uppercase letters and at least two lowercase letters.\n",
    "2. The Password should contain at least a number and three special characters.\n",
    "3. The length of the password should be 10 characters long."
   ]
  },
  {
   "cell_type": "code",
   "execution_count": 26,
   "id": "126ca771-9db8-47dc-836d-5929ec924a8d",
   "metadata": {},
   "outputs": [
    {
     "name": "stdout",
     "output_type": "stream",
     "text": [
      "1. The Password should contain at least two uppercase letters and at least two lowercase letters. /n 2. The Password should contain at least a number and three special characters./n3. The length of the password should be 10 characters long.\n"
     ]
    },
    {
     "name": "stdin",
     "output_type": "stream",
     "text": [
      "enter the password passUUU123#$\n"
     ]
    },
    {
     "name": "stdout",
     "output_type": "stream",
     "text": [
      "Invalid Password-please follow password guidelines\n",
      "len=12,uc=3, lc=4, num=3,sc=2\n"
     ]
    }
   ],
   "source": [
    "print('1. The Password should contain at least two uppercase letters and at least two lowercase letters. /n 2. The Password should contain at least a number and three special characters./n3. The length of the password should be 10 characters long.')\n",
    "password=input('enter the password')\n",
    "splc='[@_!#$%^&*()<>?/\\|}{~:]'\n",
    "\n",
    "uc=0\n",
    "lc=0\n",
    "num=0\n",
    "sc=0\n",
    "for l in password:\n",
    "        if l.isupper():\n",
    "            uc+=1\n",
    "for l in password:            \n",
    "        if l.islower():\n",
    "            lc+=1\n",
    "for l in password:            \n",
    "        if l.isnumeric():\n",
    "            num+=1\n",
    "for l in password:            \n",
    "        if l in splc:\n",
    "                sc+=1                           \n",
    "if len(password)>=10 and uc>=2 and lc>=2 and num>=1 and sc>=3:\n",
    "    print('Valid Password')\n",
    "else:print('Invalid Password-please follow password guidelines')\n",
    "print(f'len={len(password)},uc={uc}, lc={lc}, num={num},sc={sc}')"
   ]
  },
  {
   "cell_type": "markdown",
   "id": "c9f3622a-5726-4b7d-af8a-b04068ff2186",
   "metadata": {},
   "source": [
    "Q2. Solve the below-given questions using at least one of the following:\n",
    "1. Lambda function\n",
    "2. Filter function\n",
    "3. Map function\n",
    "4. List Comprehension\n",
    "1Check if the string starts with a particular letter\n",
    "2Check if the string is numeric Y\n",
    "3Sort a list of tuples having fruit names and their quantity. \n",
    "[(\"mango\",99),(\"orange\",80), (\"grapes\", 1000)-\n",
    "4Find the squares of numbers from 1 to 10Y\n",
    "5Find the cube root of numbers from 1 to 10Y\n",
    "6Check if a given number is evenY\n",
    "7Filter odd numbers from the given list.\n",
    "[1,2,3,4,5,6,7,8,9,10-\n",
    "8Sort a list of integers into positive and negative integers lists.\n",
    "[1,2,3,4,5,6,-1,-2,-3,-4,-5,0]"
   ]
  },
  {
   "cell_type": "code",
   "execution_count": 1,
   "id": "5fcee77d-9854-42ec-a29c-dac337105e15",
   "metadata": {},
   "outputs": [
    {
     "name": "stdout",
     "output_type": "stream",
     "text": [
      "[False, False, False, True]\n"
     ]
    }
   ],
   "source": [
    "#1Check if the string starts with a particular letter\n",
    "strings = ['apple', 'banana', 'cherry', 'date']\n",
    "letter = 'd'\n",
    "mapped = map(lambda s: s.startswith(letter), strings)\n",
    "result = list(mapped)\n",
    "print(result)"
   ]
  },
  {
   "cell_type": "code",
   "execution_count": 3,
   "id": "131d7f52-91bb-47ef-8167-1ae112962741",
   "metadata": {},
   "outputs": [
    {
     "name": "stdout",
     "output_type": "stream",
     "text": [
      "[False, False, False, False, True, False, True, False, True]\n"
     ]
    }
   ],
   "source": [
    "#2Check if the string is numeric \n",
    "strings = ['apple', 'banana', 'cherry', 'date','1','two','3','four','5']\n",
    "mapped = map(lambda s: s.isdigit(), strings)\n",
    "result = list(mapped)\n",
    "print(result)"
   ]
  },
  {
   "cell_type": "code",
   "execution_count": 5,
   "id": "0c76a0fd-d46a-4d6c-bb7a-388d006864a1",
   "metadata": {},
   "outputs": [
    {
     "name": "stdout",
     "output_type": "stream",
     "text": [
      "[('grapes', 1000), ('mango', 99), ('orange', 80)]\n"
     ]
    }
   ],
   "source": [
    "#3Sort a list of tuples having fruit names and their quantity.\n",
    "l=[(\"mango\",99),(\"orange\",80), (\"grapes\", 1000)]\n",
    "sorted_l = sorted(l, key=lambda x: x[1], reverse=True)\n",
    "print(sorted_l)   "
   ]
  },
  {
   "cell_type": "code",
   "execution_count": 33,
   "id": "776bde4d-78c3-4fd5-9bcc-7e5266eaa42d",
   "metadata": {},
   "outputs": [
    {
     "name": "stdout",
     "output_type": "stream",
     "text": [
      "[1, 4, 9, 16, 25, 36, 49, 64, 81, 100]\n"
     ]
    }
   ],
   "source": [
    "#4Find the squares of numbers from 1 to 10\n",
    "l=list(range(1,11))\n",
    "l1=[e**2 for e in l] #list comprehension\n",
    "print(l1)"
   ]
  },
  {
   "cell_type": "code",
   "execution_count": 46,
   "id": "6de0c2b3-8cb4-4723-a61e-9a6812d7d264",
   "metadata": {},
   "outputs": [
    {
     "name": "stdout",
     "output_type": "stream",
     "text": [
      "[1, 8, 27, 64, 125, 216, 343, 512, 729, 1000]\n"
     ]
    }
   ],
   "source": [
    "#5Find the cube root of numbers from 1 to 10\n",
    "l=list(range(1,11))\n",
    "l1=[e**3 for e in l] #list comprehension\n",
    "print(l1)"
   ]
  },
  {
   "cell_type": "code",
   "execution_count": 38,
   "id": "caebcb06-426b-4cf0-bb85-4e9b9586d943",
   "metadata": {},
   "outputs": [
    {
     "name": "stdout",
     "output_type": "stream",
     "text": [
      "['odd', 'even', 'odd', 'even', 'odd', 'even', 'odd', 'even', 'odd', 'even']\n"
     ]
    }
   ],
   "source": [
    "#6Check if a given number is even \n",
    "l1 =[1, 4, 9, 16, 25, 36, 49, 64, 81, 100]\n",
    "\n",
    "mapped = map(lambda s:'even' if s%2 ==0 else 'odd', l1)\n",
    "result = list(mapped)\n",
    "print(result)"
   ]
  },
  {
   "cell_type": "code",
   "execution_count": 40,
   "id": "7849e4e2-7807-4c01-b560-6f3b7d1ff6f9",
   "metadata": {},
   "outputs": [
    {
     "name": "stdout",
     "output_type": "stream",
     "text": [
      "[1, 9, 25, 49, 81]\n"
     ]
    }
   ],
   "source": [
    "#7Filter odd numbers from the given list. \n",
    "l1 =[1, 4, 9, 16, 25, 36, 49, 64, 81, 100]\n",
    "fl = filter(lambda s:s%2 !=0, l1)\n",
    "result = list(fl)\n",
    "print(result)"
   ]
  },
  {
   "cell_type": "code",
   "execution_count": 45,
   "id": "0c7564aa-5b6f-43f2-8c58-dfbfca822d7f",
   "metadata": {},
   "outputs": [
    {
     "name": "stdout",
     "output_type": "stream",
     "text": [
      "<filter object at 0x7f8ae2f17190>\n",
      "<filter object at 0x7f8ae2f16830>\n",
      "[1, 2, 3, 4, 5, 6]\n",
      "[-1, -2, -3, -4, -5]\n"
     ]
    }
   ],
   "source": [
    "#8Sort a list of integers into positive and negative integers lists. \n",
    "l2=[1,2,3,4,5,6,-1,-2,-3,-4,-5,0]\n",
    "pos = filter(lambda s:s>0, l2)\n",
    "neg = filter(lambda s:s<0, l2)\n",
    "print(pos)\n",
    "print(neg)\n",
    "print(list(pos))\n",
    "print(list(neg))"
   ]
  },
  {
   "cell_type": "code",
   "execution_count": null,
   "id": "86bdcb3a-bcdf-4113-ad1e-5589e75c14f4",
   "metadata": {},
   "outputs": [],
   "source": []
  }
 ],
 "metadata": {
  "kernelspec": {
   "display_name": "Python 3 (ipykernel)",
   "language": "python",
   "name": "python3"
  },
  "language_info": {
   "codemirror_mode": {
    "name": "ipython",
    "version": 3
   },
   "file_extension": ".py",
   "mimetype": "text/x-python",
   "name": "python",
   "nbconvert_exporter": "python",
   "pygments_lexer": "ipython3",
   "version": "3.10.8"
  }
 },
 "nbformat": 4,
 "nbformat_minor": 5
}
